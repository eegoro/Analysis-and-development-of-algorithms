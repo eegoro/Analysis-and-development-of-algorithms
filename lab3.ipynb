{
 "cells": [
  {
   "cell_type": "code",
   "execution_count": null,
   "metadata": {},
   "outputs": [],
   "source": [
    "import numpy as np\n",
    "import numpy.random as rand\n",
    "import math\n",
    "import time\n",
    "import matplotlib.pyplot as plt\n",
    "from scipy.optimize import curve_fit\n",
    "from scipy.optimize import minimize\n"
   ]
  },
  {
   "cell_type": "code",
   "execution_count": null,
   "metadata": {},
   "outputs": [],
   "source": [
    "import autograd.numpy as np\n",
    "from autograd import grad, jacobian"
   ]
  },
  {
   "cell_type": "code",
   "execution_count": null,
   "metadata": {},
   "outputs": [
    {
     "name": "stdout",
     "output_type": "stream",
     "text": [
      "Requirement already satisfied: autograd in d:\\anaconda\\lib\\site-packages (1.3)\n",
      "Requirement already satisfied: numpy>=1.12 in d:\\anaconda\\lib\\site-packages (from autograd) (1.20.1)\n",
      "Requirement already satisfied: future>=0.15.2 in d:\\anaconda\\lib\\site-packages (from autograd) (0.18.2)\n"
     ]
    }
   ],
   "source": [
    "!pip install autograd"
   ]
  },
  {
   "cell_type": "markdown",
   "metadata": {},
   "source": [
    "# Linear and rational functions and  numerical minimization functions for the method of least squares"
   ]
  },
  {
   "cell_type": "code",
   "execution_count": null,
   "metadata": {},
   "outputs": [],
   "source": [
    "def lin(x,a,b):\n",
    "    return a*x + b\n",
    "\n",
    "def rat(x,a,b):\n",
    "    return a/(b*x + 1)\n",
    "    \n",
    "def funcmls(x,fun):\n",
    "    return sum((fun(x_orig,x[0],x[1])-y_orig)**2)"
   ]
  },
  {
   "cell_type": "markdown",
   "metadata": {},
   "source": [
    "# Generate data"
   ]
  },
  {
   "cell_type": "code",
   "execution_count": null,
   "metadata": {},
   "outputs": [
    {
     "name": "stdout",
     "output_type": "stream",
     "text": [
      "0.013575940483482762 0.7084707743580431\n"
     ]
    }
   ],
   "source": [
    "from random import random\n",
    "from random import normalvariate\n",
    "eps = 0.001\n",
    "alfa = random()\n",
    "betta = random()\n",
    "k = np.arange (101)\n",
    "x_orig = k/100\n",
    "y_orig = np.array(k,dtype='float32')\n",
    "\n",
    "for k in range(101): \n",
    "    delta = normalvariate(0, 1)\n",
    "    y_orig[k] = alfa*x_orig[k]+betta+delta\n",
    "\n",
    "print (alfa, betta)"
   ]
  },
  {
   "cell_type": "code",
   "execution_count": null,
   "metadata": {},
   "outputs": [
    {
     "data": {
      "text/plain": [
       "array([0.  , 0.01, 0.02, 0.03, 0.04, 0.05, 0.06, 0.07, 0.08, 0.09, 0.1 ,\n",
       "       0.11, 0.12, 0.13, 0.14, 0.15, 0.16, 0.17, 0.18, 0.19, 0.2 , 0.21,\n",
       "       0.22, 0.23, 0.24, 0.25, 0.26, 0.27, 0.28, 0.29, 0.3 , 0.31, 0.32,\n",
       "       0.33, 0.34, 0.35, 0.36, 0.37, 0.38, 0.39, 0.4 , 0.41, 0.42, 0.43,\n",
       "       0.44, 0.45, 0.46, 0.47, 0.48, 0.49, 0.5 , 0.51, 0.52, 0.53, 0.54,\n",
       "       0.55, 0.56, 0.57, 0.58, 0.59, 0.6 , 0.61, 0.62, 0.63, 0.64, 0.65,\n",
       "       0.66, 0.67, 0.68, 0.69, 0.7 , 0.71, 0.72, 0.73, 0.74, 0.75, 0.76,\n",
       "       0.77, 0.78, 0.79, 0.8 , 0.81, 0.82, 0.83, 0.84, 0.85, 0.86, 0.87,\n",
       "       0.88, 0.89, 0.9 , 0.91, 0.92, 0.93, 0.94, 0.95, 0.96, 0.97, 0.98,\n",
       "       0.99, 1.  ])"
      ]
     },
     "execution_count": 6,
     "metadata": {},
     "output_type": "execute_result"
    }
   ],
   "source": [
    "x_orig"
   ]
  },
  {
   "cell_type": "code",
   "execution_count": null,
   "metadata": {},
   "outputs": [
    {
     "data": {
      "text/plain": [
       "array([-1.55281067e+00, -6.26875699e-01,  8.78328860e-01,  2.38343045e-01,\n",
       "        5.39539099e-01,  5.27891576e-01, -2.15107828e-01,  1.29867291e+00,\n",
       "        7.16675520e-01,  3.02892268e-01,  1.14170122e+00, -1.54472953e-02,\n",
       "        3.40918660e-01,  9.12521064e-01, -4.58495051e-01,  1.49440420e+00,\n",
       "        1.31545389e+00,  1.06248748e+00,  1.70704579e+00,  5.59954643e-01,\n",
       "       -8.08720708e-01,  9.11158323e-01,  9.22187090e-01,  2.36206961e+00,\n",
       "        1.30167282e+00,  1.26264715e+00,  2.48269826e-01, -3.44149396e-02,\n",
       "        3.92868251e-01, -1.28505492e+00,  2.16721964e+00, -1.11336417e-01,\n",
       "        1.12164307e+00,  5.03428914e-02,  1.25565302e+00,  1.31956756e+00,\n",
       "        6.90472066e-01,  6.85613751e-01,  1.41269851e+00, -2.78980106e-01,\n",
       "        5.76261401e-01,  1.63291776e+00,  6.14490807e-01, -5.31242907e-01,\n",
       "        2.30125114e-01,  4.32200462e-01,  9.69390213e-01, -5.01192570e-01,\n",
       "        1.74657360e-01,  1.26572192e+00,  1.62482429e+00, -2.99225539e-01,\n",
       "        1.23968959e+00, -2.22223639e+00,  2.20619464e+00,  1.61864531e+00,\n",
       "        8.68883848e-01,  1.07797718e+00,  1.89998299e-02,  1.35215595e-01,\n",
       "        1.18025616e-01,  1.50623310e+00,  6.13081336e-01,  1.32191658e+00,\n",
       "        3.02877817e-02,  4.35856879e-01, -5.40518284e-01,  1.49931705e+00,\n",
       "        3.94696355e-01, -9.94450629e-01,  5.29529870e-01,  1.48793101e+00,\n",
       "       -1.14021054e-03,  6.82592511e-01, -1.46186769e+00,  4.91887182e-01,\n",
       "       -2.67651021e-01,  9.54656124e-01,  3.41093577e-02,  3.58759850e-01,\n",
       "        2.67715782e-01,  2.16776800e+00, -3.11634243e-01,  1.61770985e-01,\n",
       "       -8.65992100e-04,  2.08573937e+00,  1.07443810e+00, -1.32893991e+00,\n",
       "        1.04712594e+00,  8.09351504e-01,  1.27742326e+00, -8.60519707e-01,\n",
       "       -1.23067319e-01, -1.46104193e+00,  9.87588644e-01, -2.88929403e-01,\n",
       "        1.78874195e+00,  7.73619175e-01,  3.02145332e-01, -7.92616546e-01,\n",
       "        1.27361977e+00], dtype=float32)"
      ]
     },
     "execution_count": 7,
     "metadata": {},
     "output_type": "execute_result"
    }
   ],
   "source": [
    "y_orig"
   ]
  },
  {
   "cell_type": "markdown",
   "metadata": {},
   "source": [
    "# Gradient Descent, Conjugate Gradient Descent, Newton’s method and Levenberg-Marquardt algorithm"
   ]
  },
  {
   "cell_type": "code",
   "execution_count": null,
   "metadata": {},
   "outputs": [],
   "source": [
    "min_list_lin_1 = minimize(funcmls, x0=(0, 0), method='BFGS', args=(lin,), tol=eps, options={'return_all': True}) #Gradient Descent\n",
    "min_list_lin_2 = minimize(funcmls, x0=(0, 0), method='CG', args=(lin,), tol=eps, options={'return_all': True}) #Conjugate Gradient Descent\n",
    "min_list_lin_3 = minimize(funcmls, x0=(0, 0), method='Newton-CG', jac=jacobian(funcmls), args=(lin,), tol=eps, options={'return_all': True}) #Newton’s method\n",
    "min_list_lin_4 = curve_fit(lin, xdata=x_orig, ydata=y_orig, method='lm') #Levenberg-Marquardt algorithm\n",
    "\n",
    "min_list_rat_1 = minimize(funcmls, x0=(0, 0), method='BFGS', args=(rat,), tol=eps, options={'return_all': True}) #Gradient Descent\n",
    "min_list_rat_2 = minimize(funcmls, x0=(0, 0), method='CG', args=(rat,), tol=eps, options={'return_all': True}) #Conjugate Gradient Descent\n",
    "min_list_rat_3 = minimize(funcmls, x0=(0, 0), method='Newton-CG', jac=jacobian(funcmls), args=(rat,), tol=eps, options={'return_all': True}) #Newton’s method\n",
    "min_list_rat_4 = curve_fit(rat, xdata=x_orig, ydata=y_orig, method='lm') #Levenberg-Marquardt algorithm"
   ]
  },
  {
   "cell_type": "code",
   "execution_count": 9,
   "metadata": {},
   "outputs": [
    {
     "name": "stdout",
     "output_type": "stream",
     "text": [
      "Requirement already satisfied: prettytable in d:\\anaconda\\lib\\site-packages (2.2.1)\n",
      "Requirement already satisfied: wcwidth in d:\\anaconda\\lib\\site-packages (from prettytable) (0.2.5)\n"
     ]
    }
   ],
   "source": [
    "!pip install prettytable"
   ]
  },
  {
   "cell_type": "code",
   "execution_count": 13,
   "metadata": {},
   "outputs": [
    {
     "data": {
      "text/plain": [
       "(array([-0.21336256,  0.61092537]),\n",
       " array([[ 0.09689403, -0.04844701],\n",
       "        [-0.04844701,  0.0324595 ]]))"
      ]
     },
     "execution_count": 13,
     "metadata": {},
     "output_type": "execute_result"
    }
   ],
   "source": [
    "iter_exp = 8\n",
    "curve_fit(lin, xdata=x_orig, ydata=y_orig, method='lm', maxfev = iter_exp) #Levenberg-Marquardt algorithm"
   ]
  },
  {
   "cell_type": "code",
   "execution_count": 21,
   "metadata": {},
   "outputs": [
    {
     "data": {
      "text/plain": [
       "(array([0.58652495, 0.3392231 ]),\n",
       " array([[0.04331619, 0.14784232],\n",
       "        [0.14784232, 0.677333  ]]))"
      ]
     },
     "execution_count": 21,
     "metadata": {},
     "output_type": "execute_result"
    }
   ],
   "source": [
    "iter_exp2 = 32\n",
    "curve_fit(rat, xdata=x_orig, ydata=y_orig, method='lm', maxfev = iter_exp2) #Levenberg-Marquardt algorithm"
   ]
  },
  {
   "cell_type": "markdown",
   "metadata": {},
   "source": [
    "# Calculation results"
   ]
  },
  {
   "cell_type": "code",
   "execution_count": 22,
   "metadata": {},
   "outputs": [
    {
     "name": "stdout",
     "output_type": "stream",
     "text": [
      "+----------+-------------------------------+--------+-------+-----------+---------------------------+----------------------+\n",
      "| Function |             Method            |   a    |   b   | minimum f |  number of f-calculations | number of iterations |\n",
      "+----------+-------------------------------+--------+-------+-----------+---------------------------+----------------------+\n",
      "|   ax+b   |        Gradient Descent       | -0.213 | 0.611 |   82.352  |             15            |          2           |\n",
      "|   ax+b   |   Conjugate Gradient Descent  | -0.213 | 0.611 |   82.352  |             15            |          2           |\n",
      "|   ax+b   |        Newton’s method        | -0.213 | 0.611 |   82.352  |             37            |          2           |\n",
      "|   ax+b   | Levenberg-Marquardt algorithm | -0.213 | 0.611 |   82.352  |             8             |          8           |\n",
      "|          |                               |        |       |           |                           |                      |\n",
      "| a/(1+bx) |        Gradient Descent       | 0.587  | 0.339 |   89.514  |             39            |          10          |\n",
      "| a/(1+bx) |   Conjugate Gradient Descent  | 0.587  | 0.339 |   89.512  |             33            |          4           |\n",
      "| a/(1+bx) |        Newton’s method        | 0.587  | 0.339 |   89.513  |             9             |          8           |\n",
      "| a/(1+bx) | Levenberg-Marquardt algorithm | 0.587  | 0.339 |   89.506  |             32            |          32          |\n",
      "+----------+-------------------------------+--------+-------+-----------+---------------------------+----------------------+\n"
     ]
    }
   ],
   "source": [
    "alfa_lin_1 = min_list_lin_1.x[0]\n",
    "betta_lin_1 = min_list_lin_1.x[1]\n",
    "countf_lin_1 = min_list_lin_1.nfev\n",
    "iter_lin_1 = min_list_lin_1.nit\n",
    "res_lin_1 = (funcmls(min_list_lin_1.x, lin))\n",
    "\n",
    "alfa_lin_2 = min_list_lin_2.x[0]\n",
    "betta_lin_2 = min_list_lin_2.x[1]\n",
    "countf_lin_2 = min_list_lin_2.nfev\n",
    "iter_lin_2 = min_list_lin_2.nit\n",
    "res_lin_2 = (funcmls(min_list_lin_2.x, lin))\n",
    "\n",
    "alfa_lin_3 = min_list_lin_3.x[0]\n",
    "betta_lin_3 = min_list_lin_3.x[1]\n",
    "countf_lin_3 = min_list_lin_3.nfev\n",
    "iter_lin_3 = min_list_lin_3.nit\n",
    "res_lin_3 = (funcmls(min_list_lin_3.x, lin))\n",
    "\n",
    "alfa_lin_4 = min_list_lin_4[0][0]\n",
    "betta_lin_4 = min_list_lin_4[0][1]\n",
    "countf_lin_4 = iter_exp\n",
    "iter_lin_4 = iter_exp\n",
    "res_lin_4 = (funcmls(min_list_lin_4[0], lin))\n",
    "\n",
    "alfa_rat_1 = min_list_rat_1.x[0]\n",
    "betta_rat_1 = min_list_rat_1.x[1]\n",
    "countf_rat_1 = min_list_rat_1.nfev\n",
    "iter_rat_1 = min_list_rat_1.nit\n",
    "res_rat_1 = (funcmls(min_list_rat_1.x, lin))\n",
    "\n",
    "alfa_rat_2 = min_list_rat_2.x[0]\n",
    "betta_rat_2 = min_list_rat_2.x[1]\n",
    "countf_rat_2 = min_list_rat_2.nfev\n",
    "iter_rat_2 = min_list_rat_2.nit\n",
    "res_rat_2 = (funcmls(min_list_rat_2.x, lin))\n",
    "\n",
    "\n",
    "alfa_rat_3 = min_list_rat_3.x[0]\n",
    "betta_rat_3 = min_list_rat_3.x[1]\n",
    "countf_rat_3 = min_list_rat_3.nfev\n",
    "iter_rat_3 = min_list_rat_3.nit\n",
    "res_rat_3 = (funcmls(min_list_rat_3.x, lin))\n",
    "\n",
    "alfa_rat_4 = min_list_rat_4[0][0]\n",
    "betta_rat_4 = min_list_rat_4[0][1]\n",
    "countf_rat_4 = iter_exp2\n",
    "iter_rat_4 = iter_exp2\n",
    "res_rat_4 = (funcmls(min_list_rat_4[0], lin))\n",
    "\n",
    "from prettytable import PrettyTable\n",
    "th = ['Function', 'Method', 'a', 'b', 'minimum f', ' number of f-calculations', 'number of iterations' ]\n",
    "td = ['ax+b', 'Gradient Descent', '%.3f' % alfa_lin_1, '%.3f' % betta_lin_1, '%.3f' % res_lin_1, countf_lin_1, iter_lin_1,\n",
    "      'ax+b', 'Conjugate Gradient Descent', '%.3f' % alfa_lin_2, '%.3f' % betta_lin_2, '%.3f' % res_lin_2, countf_lin_2, iter_lin_2,\n",
    "      'ax+b', 'Newton’s method', '%.3f' % alfa_lin_3, '%.3f' % betta_lin_3, '%.3f' % res_lin_3, countf_lin_3, iter_lin_3,\n",
    "      'ax+b', 'Levenberg-Marquardt algorithm', '%.3f' % alfa_lin_4, '%.3f' % betta_lin_4, '%.3f' % res_lin_4, countf_lin_4, iter_lin_4,\n",
    "      '', '', '', '', '', '', '',\n",
    "      'a/(1+bx)', 'Gradient Descent', '%.3f' % alfa_rat_1, '%.3f' % betta_rat_1, '%.3f' % res_rat_1, countf_rat_1, iter_rat_1,\n",
    "      'a/(1+bx)', 'Conjugate Gradient Descent', '%.3f' % alfa_rat_2, '%.3f' % betta_rat_2, '%.3f' % res_rat_2, countf_rat_2, iter_rat_2,\n",
    "      'a/(1+bx)', 'Newton’s method', '%.3f' % alfa_rat_3, '%.3f' % betta_rat_3, '%.3f' % res_rat_3, countf_rat_3, iter_rat_3,\n",
    "      'a/(1+bx)', 'Levenberg-Marquardt algorithm', '%.3f' % alfa_rat_4, '%.3f' % betta_rat_4, '%.3f' % res_rat_4, countf_rat_4, countf_rat_4]\n",
    "\n",
    "columns = len(th)\n",
    "table = PrettyTable(th)\n",
    "td_data = td[:]\n",
    "\n",
    "while td_data:\n",
    "    table.add_row(td_data[:columns])\n",
    "    td_data = td_data[columns:]\n",
    "\n",
    "print(table) "
   ]
  },
  {
   "cell_type": "markdown",
   "metadata": {},
   "source": [
    "# Results graphs"
   ]
  },
  {
   "cell_type": "code",
   "execution_count": 23,
   "metadata": {},
   "outputs": [
    {
     "name": "stderr",
     "output_type": "stream",
     "text": [
      "<ipython-input-23-74d38599d43d>:12: MatplotlibDeprecationWarning: savefig() got unexpected keyword argument \"papertype\" which is no longer supported as of 3.3 and will become an error two minor releases later\n",
      "  plt.savefig(fname = \"./1.png\", dpi=300, facecolor='w', edgecolor='w',\n",
      "<ipython-input-23-74d38599d43d>:12: MatplotlibDeprecationWarning: savefig() got unexpected keyword argument \"frameon\" which is no longer supported as of 3.3 and will become an error two minor releases later\n",
      "  plt.savefig(fname = \"./1.png\", dpi=300, facecolor='w', edgecolor='w',\n",
      "<ipython-input-23-74d38599d43d>:28: MatplotlibDeprecationWarning: savefig() got unexpected keyword argument \"papertype\" which is no longer supported as of 3.3 and will become an error two minor releases later\n",
      "  plt.savefig(fname = \"./2.png\", dpi=300, facecolor='w', edgecolor='w',\n",
      "<ipython-input-23-74d38599d43d>:28: MatplotlibDeprecationWarning: savefig() got unexpected keyword argument \"frameon\" which is no longer supported as of 3.3 and will become an error two minor releases later\n",
      "  plt.savefig(fname = \"./2.png\", dpi=300, facecolor='w', edgecolor='w',\n"
     ]
    },
    {
     "data": {
      "image/png": "[encoded data removed]",
      "text/plain": [
       "<Figure size 720x360 with 1 Axes>"
      ]
     },
     "metadata": {
      "needs_background": "light"
     },
     "output_type": "display_data"
    },
    {
     "data": {
      "image/png": "[encoded data removed]",
      "text/plain": [
       "<Figure size 720x360 with 1 Axes>"
      ]
     },
     "metadata": {
      "needs_background": "light"
     },
     "output_type": "display_data"
    }
   ],
   "source": [
    "\n",
    "plt.figure(figsize=(10,5))\n",
    "plt.plot(x_orig, y_orig, 'bo', label='Generated data', markersize=1)\n",
    "plt.plot(x_orig, lin(alfa,betta,x_orig),'', color = 'black', linewidth=1, label=\"Generating line\")\n",
    "plt.plot(x_orig, lin(alfa_lin_1,betta_lin_1,x_orig),'', color = 'red', linewidth=1, label=\"Method of Gradient Descent\")\n",
    "plt.plot(x_orig, lin(alfa_lin_2,betta_lin_2,x_orig),'', color = 'green', linewidth=1, label=\"Method of Conjugate Gradient Descent\")\n",
    "plt.plot(x_orig, lin(alfa_lin_3,betta_lin_3,x_orig),'', color = 'orange', linewidth=1, label=\"Newton’s Method\")\n",
    "plt.plot(x_orig, lin(alfa_lin_4,betta_lin_4,x_orig),'', color = 'brown', linewidth=1, label=\"Levenberg-Marquardt Algorithm\")\n",
    "\n",
    "plt.legend()\n",
    "plt.xlabel(\"x\")\n",
    "plt.ylabel(\"f(x)\")\n",
    "plt.savefig(fname = \"./1.png\", dpi=300, facecolor='w', edgecolor='w',\n",
    "            orientation='portrait', papertype=None, format=None, \n",
    "            transparent=False, bbox_inches=None, pad_inches=0.1,\n",
    "            frameon=None, metadata=None)\n",
    "\n",
    "plt.figure(figsize=(10,5))\n",
    "plt.plot(x_orig, y_orig, 'bo', label='Generated data', markersize=1)\n",
    "plt.plot(x_orig, rat(alfa,betta,x_orig),'', color = 'black', linewidth=1, label=\"Generating line\")\n",
    "plt.plot(x_orig, rat(alfa_rat_1,betta_rat_1,x_orig),'', color = 'red', linewidth=1, label=\"Method of Gradient Descent\")\n",
    "plt.plot(x_orig, rat(alfa_rat_2,betta_rat_2,x_orig),'', color = 'green', linewidth=1, label=\"Method of Conjugate Gradient Descent\")\n",
    "plt.plot(x_orig, rat(alfa_rat_3,betta_rat_3,x_orig),'', color = 'orange', linewidth=1, label=\"Newton’s Method\")\n",
    "plt.plot(x_orig, rat(alfa_rat_4,betta_rat_4,x_orig),'', color = 'brown', linewidth=1, label=\"Levenberg-Marquardt Algorithm\")\n",
    "\n",
    "plt.legend()\n",
    "plt.xlabel(\"x\")\n",
    "plt.ylabel(\"f(x)\")\n",
    "plt.savefig(fname = \"./2.png\", dpi=300, facecolor='w', edgecolor='w',\n",
    "            orientation='portrait', papertype=None, format=None, \n",
    "            transparent=False, bbox_inches=None, pad_inches=0.1,\n",
    "            frameon=None, metadata=None)"
   ]
  }
 ],
 "metadata": {
  "interpreter": {
   "hash": "7fd27acf9a94a5a6fa3c4459901576d754097efd5b0d4e01531075eeaad970fb"
  },
  "kernelspec": {
   "display_name": "Python 3.8.8 64-bit ('ml': conda)",
   "name": "python3"
  },
  "language_info": {
   "codemirror_mode": {
    "name": "ipython",
    "version": 3
   },
   "file_extension": ".py",
   "mimetype": "text/x-python",
   "name": "python",
   "nbconvert_exporter": "python",
   "pygments_lexer": "ipython3",
   "version": "3.8.8"
  },
  "orig_nbformat": 4
 },
 "nbformat": 4,
 "nbformat_minor": 2
}
