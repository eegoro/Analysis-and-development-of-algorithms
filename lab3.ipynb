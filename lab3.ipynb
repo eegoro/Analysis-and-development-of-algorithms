{
 "cells": [
  {
   "cell_type": "code",
   "execution_count": 429,
   "metadata": {},
   "outputs": [],
   "source": [
    "import numpy as np\n",
    "import numpy.random as rand\n",
    "import math\n",
    "import time\n",
    "import matplotlib.pyplot as plt\n",
    "from scipy.optimize import curve_fit\n",
    "from scipy.optimize import minimize"
   ]
  },
  {
   "cell_type": "markdown",
   "metadata": {},
   "source": [
    "# Linear and rational functions and  numerical minimization functions for the method of least squares"
   ]
  },
  {
   "cell_type": "code",
   "execution_count": 520,
   "metadata": {},
   "outputs": [],
   "source": [
    "def lin(x,a,b):\n",
    "    return a*x + b\n",
    "\n",
    "def rat(x,a,b):\n",
    "    return a/(b*x + 1)\n",
    "    \n",
    "def funcmls_lin(koord,x,y):\n",
    "    return sum((koord[0]*x+koord[1]-y)**2)\n",
    "\n",
    "def grad_lin(koord,x,y):\n",
    "    grad = np.array([0.0,0.0])\n",
    "    grad[0] = np.sum(2*x*(koord[0]*x+koord[1]-y))\n",
    "    grad[1] = np.sum(2*(koord[0]*x+koord[1]-y))\n",
    "    return grad\n",
    "\n",
    "def hessian_lin(x,y,koord):\n",
    "    hessian = np.zeros((2,2),dtype=float)\n",
    "    hessian[0][0]=sum(2*x**2)\n",
    "    hessian[0][1]=hessian[1][0]=sum(2*x)\n",
    "    hessian[1][1]=2\n",
    "    return hessian\n",
    "\n",
    "def funcmls_rat(koord,x,y):\n",
    "    return sum(((koord[0]/(1+x*koord[1]))-y)**2)\n",
    "\n",
    "def grad_rat(koord,x,y):\n",
    "    grad = np.array([0.0,0.0])\n",
    "    grad[0] = np.sum(2*(1/(1+koord[1]*x))*((koord[0]/(1+x*koord[1]))-y))\n",
    "    grad[1] = np.sum(2*(-koord[0]*x/(1+koord[1]*x)**2)*((koord[0]/(1+x*koord[1]))-y))\n",
    "    return grad\n",
    "\n",
    "def hessian_rat(x,y,koord):\n",
    "    hessian = np.zeros((2,2),dtype=float)\n",
    "    hessian[0][0]=sum(2/((1+koord[1]*x)**2))\n",
    "    hessian[0][1]=hessian[1][0]=sum((2*x*y/(1+koord[1]*x)**2)-(4*x*koord[0]/(1+koord[1]*x)**3))\n",
    "    hessian[1][1]=sum(((6*(x**2)*(koord[0]**2))/(1+koord[1]*x)**4)-(4*(x**2)*y*koord[0]/(1+koord[1]*x)**3))\n",
    "   \n",
    "    return hessian"
   ]
  },
  {
   "cell_type": "markdown",
   "metadata": {},
   "source": [
    "# Gradient Descent, Conjugate Gradient Descent, Newton’s method and Levenberg-Marquardt algorithm"
   ]
  },
  {
   "cell_type": "code",
   "execution_count": 450,
   "metadata": {},
   "outputs": [],
   "source": [
    "def Gradient_Descent(grad, a0, b0, eps, x, y):\n",
    "    koord0 = np.array([a0,b0])\n",
    "    koord1 = koord0-np.random.randn(1)*grad(koord0,x,y)\n",
    "\n",
    "    yiter = 0\n",
    "    xiter = 0\n",
    "    \n",
    "    while (np.linalg.norm(koord1-koord0) > eps):\n",
    "        beta_num = np.abs(np.matmul((koord1-koord0),(grad(koord1,x,y)-grad(koord0,x,y))))\n",
    "        beta_den = np.linalg.norm(grad(koord1,x,y)-grad(koord0,x,y))**2\n",
    "        beta = beta_num/beta_den\n",
    "        xiter+=1\n",
    "        yiter+=2\n",
    "        koord0 = koord1\n",
    "        koord1 = koord0-beta*grad(koord0,x,y)\n",
    "    return (koord1[0], koord1[1], yiter, xiter)\n",
    "\n",
    "def Conjugate_Gradient_Descent(funcmls, grad, a0, b0, eps, x, y):\n",
    "    koord0 = np.array([a0,b0])\n",
    "    f = lambda a: funcmls(koord0-a*grad(koord0,x,y),x,y)\n",
    "    alfa0 = minimize(f,1,method='Nelder-Mead').x\n",
    "    koord1 = koord0-alfa0*grad(koord0,x,y)\n",
    "    s0 = -grad(koord0,x,y)\n",
    "\n",
    "    yiter = 2\n",
    "    xiter = 0\n",
    "\n",
    "    while (np.linalg.norm(koord1-koord0) > eps):\n",
    "        g1 = grad(koord1,x,y)\n",
    "        g0 = grad(koord0,x,y)\n",
    "\n",
    "        beta_num = np.matmul(g1,g1)\n",
    "        beta_den = np.matmul(g0,g0)\n",
    "        beta = beta_num/beta_den\n",
    "\n",
    "        s1 = -g1+beta*s0\n",
    "\n",
    "        f = lambda a: funcmls(koord1-a*grad(koord1,x,y),x,y)\n",
    "        alfa1 = minimize(f,1,method='Nelder-Mead').x\n",
    "\n",
    "        koord0 = koord1\n",
    "        koord1 = koord0+alfa1*s1\n",
    "        s0=s1\n",
    "        xiter += 1\n",
    "        yiter += 2\n",
    "    return (koord1[0], koord1[1], yiter, xiter)\n",
    "\n",
    "def Newton(funcmls, grad, hessian, a0, b0, eps, x, y):\n",
    "    xiter = 0\n",
    "    yiter = 2\n",
    "    koord0 = np.array([a0,b0])\n",
    "    koord1 = koord0-np.matmul(np.linalg.inv(hessian(x,y,koord0)),grad(koord0,x,y))\n",
    "\n",
    "    while (np.linalg.norm(koord1-koord0) > eps):\n",
    "        koord0=koord1\n",
    "        \n",
    "        f = lambda a: funcmls(koord0-a*np.matmul(np.linalg.inv(hessian(x,y,koord0)),grad(koord0,x,y)),x,y)\n",
    "        alfa = minimize(f,1,method='Nelder-Mead').x\n",
    "\n",
    "        koord1 = koord0-alfa*np.matmul(np.linalg.inv(hessian(x,y,koord0)),grad(koord0,x,y))\n",
    "        xiter += 1\n",
    "        yiter += 2\n",
    "\n",
    "    return (koord1[0], koord1[1], yiter, xiter)"
   ]
  },
  {
   "cell_type": "markdown",
   "metadata": {},
   "source": [
    "# Generate data"
   ]
  },
  {
   "cell_type": "code",
   "execution_count": 432,
   "metadata": {},
   "outputs": [
    {
     "name": "stdout",
     "output_type": "stream",
     "text": [
      "0.30410194380705613 0.39718953205822816\n"
     ]
    }
   ],
   "source": [
    "from random import random\n",
    "from random import normalvariate\n",
    "alfa = random()\n",
    "betta = random()\n",
    "k = np.arange (101)\n",
    "x = k/100\n",
    "y = np.array(k,dtype='float32')\n",
    "\n",
    "for k in range(101): \n",
    "    delta = normalvariate(0, 1)\n",
    "    y[k] = alfa*x[k]+betta+delta\n",
    "\n",
    "print (alfa, betta)"
   ]
  },
  {
   "cell_type": "code",
   "execution_count": 521,
   "metadata": {},
   "outputs": [
    {
     "name": "stdout",
     "output_type": "stream",
     "text": [
      "0.42499568256968767 -0.470200169619141\n",
      "0.0159410312423245 -3.7470538679045133 66 33\n",
      "0.42784517089214485 -0.4629372085439049 4 1\n",
      "0.4248672747348394 -0.4704529943358103 6 2\n"
     ]
    }
   ],
   "source": [
    "popt, _ = curve_fit(rat, x, y)\n",
    "a_sum, b_sum = popt\n",
    "\n",
    "print (a_sum, b_sum)\n",
    "\n",
    "a_grad, b_grad, yiter_grad, xiter_grad = Gradient_Descent(grad_rat, 0.1, 0.1, 0.001, x, y)\n",
    "print (a_grad, b_grad, yiter_grad, xiter_grad)\n",
    "\n",
    "a1,b1, yiter1, xiter1 = Conjugate_Gradient_Descent(funcmls_rat, grad_rat, 0.5, -0.5, 0.001, x, y)\n",
    "print(a1,b1, yiter1, xiter1)\n",
    "\n",
    "a2,b2, yiter2, xiter2 = Newton(funcmls_rat, grad_rat, hessian_rat, 0.5, -0.5, 0.01, x, y)\n",
    "print(a2,b2, yiter2, xiter2)"
   ]
  },
  {
   "cell_type": "code",
   "execution_count": 525,
   "metadata": {},
   "outputs": [
    {
     "name": "stdout",
     "output_type": "stream",
     "text": [
      "0.21836244026734963 0.4691078474395135\n",
      "0.42499568256968767 -0.470200169619141\n"
     ]
    }
   ],
   "source": [
    "popt, _ = curve_fit(lin, x, y, method = 'lm',maxfev=5)\n",
    "a_sum, b_sum = popt\n",
    "print (a_sum, b_sum)\n",
    "\n",
    "popt, _ = curve_fit(rat, x, y, method = 'lm',maxfev=23)\n",
    "a_sum, b_sum = popt\n",
    "print (a_sum, b_sum)"
   ]
  },
  {
   "cell_type": "code",
   "execution_count": 470,
   "metadata": {},
   "outputs": [
    {
     "name": "stdout",
     "output_type": "stream",
     "text": [
      "Collecting prettytable\n",
      "  Using cached prettytable-2.2.1-py3-none-any.whl (23 kB)\n",
      "Requirement already satisfied: wcwidth in d:\\anaconda\\envs\\ml\\lib\\site-packages (from prettytable) (0.2.5)\n",
      "Installing collected packages: prettytable\n",
      "Successfully installed prettytable-2.2.1\n"
     ]
    }
   ],
   "source": [
    "!pip install prettytable"
   ]
  },
  {
   "cell_type": "markdown",
   "metadata": {},
   "source": [
    "# Calculation results"
   ]
  },
  {
   "cell_type": "code",
   "execution_count": 522,
   "metadata": {},
   "outputs": [
    {
     "name": "stdout",
     "output_type": "stream",
     "text": [
      "+----------+-------------------------------+-------+--------+-----------+---------------------------+----------------------+\n",
      "| Function |             Method            |   a   |   b    | minimum f |  number of f-calculations | number of iterations |\n",
      "+----------+-------------------------------+-------+--------+-----------+---------------------------+----------------------+\n",
      "|   ax+b   |        Gradient Descent       | 0.218 | 0.470  |   98.193  |             4             |          2           |\n",
      "|   ax+b   |   Conjugate Gradient Descent  | 0.220 | 0.468  |   98.193  |             10            |          4           |\n",
      "|   ax+b   |        Newton’s method        | 0.218 | 0.469  |   98.193  |             6             |          2           |\n",
      "|   ax+b   | Levenberg-Marquardt algorithm | 0.218 | 0.469  |   98.193  |             7             |          5           |\n",
      "|          |                               |       |        |           |                           |                      |\n",
      "| a/(1+bx) |        Gradient Descent       | 0.470 | 2.353  |  110.830  |             50            |          25          |\n",
      "| a/(1+bx) |   Conjugate Gradient Descent  | 0.428 | -0.463 |   97.873  |             4             |          1           |\n",
      "| a/(1+bx) |        Newton’s method        | 0.218 | 0.469  |  114.925  |             6             |          2           |\n",
      "| a/(1+bx) | Levenberg-Marquardt algorithm | 0.425 | -0.470 |   97.873  |             25            |          23          |\n",
      "+----------+-------------------------------+-------+--------+-----------+---------------------------+----------------------+\n"
     ]
    }
   ],
   "source": [
    "alfa_lin_1,betta_lin_1,countf_lin_1,iter_lin_1 = Gradient_Descent(grad_lin, 0, 0, 0.001, x, y)\n",
    "res_lin_1 = (funcmls_lin([alfa_lin_1,betta_lin_1],x,y))\n",
    "alfa_lin_2,betta_lin_2,countf_lin_2,iter_lin_2 = Conjugate_Gradient_Descent(funcmls_lin, grad_lin, 0, 0, 0.001, x, y)\n",
    "res_lin_2 = (funcmls_lin([alfa_lin_2,betta_lin_2],x,y))\n",
    "alfa_lin_3,betta_lin_3,countf_lin_3,iter_lin_3 = Newton(funcmls_lin, grad_lin, hessian_lin, 0, 0, 0.01, x, y)\n",
    "res_lin_3 = (funcmls_lin([alfa_lin_3,betta_lin_3],x,y))\n",
    "\n",
    "popt, _ = curve_fit(lin, x, y, method = 'lm')\n",
    "alfa_lin_4,betta_lin_4 = popt\n",
    "res_lin_4 = (funcmls_lin([alfa_lin_4,betta_lin_4],x,y))\n",
    "\n",
    "alfa_rat_1,betta_rat_1,countf_rat_1,iter_rat_1 = Gradient_Descent(grad_rat, 0.5, -0.5, 0.001, x, y)\n",
    "res_rat_1 = (funcmls_rat([alfa_rat_1,betta_rat_1],x,y))\n",
    "alfa_rat_2,betta_rat_2,countf_rat_2,iter_rat_2 = Conjugate_Gradient_Descent(funcmls_rat, grad_rat, 0.5, -0.5, 0.001, x, y)\n",
    "res_rat_2 = (funcmls_rat([alfa_rat_2,betta_rat_2],x,y))\n",
    "alfa_rat_3,betta_rat_3,countf_rat_3,iter_rat_3 = Newton(funcmls_lin, grad_lin, hessian_lin, 0, 0, 0.01, x, y)\n",
    "res_rat_3 = (funcmls_rat([alfa_rat_3,betta_rat_3],x,y))\n",
    "\n",
    "popt, _ = curve_fit(rat, x, y, method = 'lm')\n",
    "alfa_rat_4,betta_rat_4 = popt\n",
    "res_rat_4 = (funcmls_rat([alfa_rat_4,betta_rat_4],x,y))\n",
    "\n",
    "from prettytable import PrettyTable\n",
    "th = ['Function', 'Method', 'a', 'b', 'minimum f', ' number of f-calculations', 'number of iterations' ]\n",
    "td = ['ax+b', 'Gradient Descent', '%.3f' % alfa_lin_1, '%.3f' % betta_lin_1, '%.3f' % res_lin_1, countf_lin_1, iter_lin_1,\n",
    "      'ax+b', 'Conjugate Gradient Descent', '%.3f' % alfa_lin_2, '%.3f' % betta_lin_2, '%.3f' % res_lin_2, countf_lin_2, iter_lin_2,\n",
    "      'ax+b', 'Newton’s method', '%.3f' % alfa_lin_3, '%.3f' % betta_lin_3, '%.3f' % res_lin_3, countf_lin_3, iter_lin_3,\n",
    "      'ax+b', 'Levenberg-Marquardt algorithm', '%.3f' % alfa_lin_4, '%.3f' % betta_lin_4, '%.3f' % res_lin_4, 7, 5,\n",
    "      '', '', '', '', '', '', '',\n",
    "      'a/(1+bx)', 'Gradient Descent', '%.3f' % alfa_rat_1, '%.3f' % betta_rat_1, '%.3f' % res_rat_1, countf_rat_1, iter_rat_1,\n",
    "      'a/(1+bx)', 'Conjugate Gradient Descent', '%.3f' % alfa_rat_2, '%.3f' % betta_rat_2, '%.3f' % res_rat_2, countf_rat_2, iter_rat_2,\n",
    "      'a/(1+bx)', 'Newton’s method', '%.3f' % alfa_rat_3, '%.3f' % betta_rat_3, '%.3f' % res_rat_3, countf_rat_3, iter_rat_3,\n",
    "      'a/(1+bx)', 'Levenberg-Marquardt algorithm', '%.3f' % alfa_rat_4, '%.3f' % betta_rat_4, '%.3f' % res_rat_4, 25, 23]\n",
    "\n",
    "columns = len(th)\n",
    "table = PrettyTable(th)\n",
    "td_data = td[:]\n",
    "\n",
    "while td_data:\n",
    "    table.add_row(td_data[:columns])\n",
    "    td_data = td_data[columns:]\n",
    "\n",
    "print(table) "
   ]
  },
  {
   "cell_type": "markdown",
   "metadata": {},
   "source": [
    "# Results graphs"
   ]
  },
  {
   "cell_type": "code",
   "execution_count": 523,
   "metadata": {},
   "outputs": [
    {
     "name": "stderr",
     "output_type": "stream",
     "text": [
      "<ipython-input-523-acc4e5f8ebe7>:12: MatplotlibDeprecationWarning: savefig() got unexpected keyword argument \"papertype\" which is no longer supported as of 3.3 and will become an error two minor releases later\n",
      "  plt.savefig(fname = \"D:/Магистр/Algorithms/graph_1lab_task3_lin.png\", dpi=300, facecolor='w', edgecolor='w',\n",
      "<ipython-input-523-acc4e5f8ebe7>:12: MatplotlibDeprecationWarning: savefig() got unexpected keyword argument \"frameon\" which is no longer supported as of 3.3 and will become an error two minor releases later\n",
      "  plt.savefig(fname = \"D:/Магистр/Algorithms/graph_1lab_task3_lin.png\", dpi=300, facecolor='w', edgecolor='w',\n",
      "<ipython-input-523-acc4e5f8ebe7>:28: MatplotlibDeprecationWarning: savefig() got unexpected keyword argument \"papertype\" which is no longer supported as of 3.3 and will become an error two minor releases later\n",
      "  plt.savefig(fname = \"D:/Магистр/Algorithms/graph_2lab_task3_rat.png\", dpi=300, facecolor='w', edgecolor='w',\n",
      "<ipython-input-523-acc4e5f8ebe7>:28: MatplotlibDeprecationWarning: savefig() got unexpected keyword argument \"frameon\" which is no longer supported as of 3.3 and will become an error two minor releases later\n",
      "  plt.savefig(fname = \"D:/Магистр/Algorithms/graph_2lab_task3_rat.png\", dpi=300, facecolor='w', edgecolor='w',\n"
     ]
    },
    {
     "data": {
      "image/png": "[encoded data removed]",
      "text/plain": [
       "<Figure size 720x360 with 1 Axes>"
      ]
     },
     "metadata": {
      "needs_background": "light"
     },
     "output_type": "display_data"
    },
    {
     "data": {
      "image/png": "[encoded data removed]",
      "text/plain": [
       "<Figure size 720x360 with 1 Axes>"
      ]
     },
     "metadata": {
      "needs_background": "light"
     },
     "output_type": "display_data"
    }
   ],
   "source": [
    "plt.figure(figsize=(10,5))\n",
    "plt.plot(x, y, 'bo', label='Generated data', markersize=1)\n",
    "plt.plot(x, funclin(alfa,betta,x),'', color = 'black', linewidth=1, label=\"Generating line\")\n",
    "plt.plot(x, funclin(alfa_lin_1,betta_lin_1,x),'', color = 'red', linewidth=1, label=\"Method of Gradient Descent\")\n",
    "plt.plot(x, funclin(alfa_lin_2,betta_lin_2,x),'', color = 'green', linewidth=1, label=\"Method of Conjugate Gradient Descent\")\n",
    "plt.plot(x, funclin(alfa_lin_3,betta_lin_3,x),'', color = 'orange', linewidth=1, label=\"Newton’s Method\")\n",
    "plt.plot(x, funclin(alfa_lin_4,betta_lin_4,x),'', color = 'brown', linewidth=1, label=\"Levenberg-Marquardt Algorithm\")\n",
    "\n",
    "plt.legend()\n",
    "plt.xlabel(\"x\")\n",
    "plt.ylabel(\"f(x)\")\n",
    "plt.savefig(fname = \"D:/Магистр/Algorithms/graph_1lab_task3_lin.png\", dpi=300, facecolor='w', edgecolor='w',\n",
    "            orientation='portrait', papertype=None, format=None, \n",
    "            transparent=False, bbox_inches=None, pad_inches=0.1,\n",
    "            frameon=None, metadata=None)\n",
    "\n",
    "plt.figure(figsize=(10,5))\n",
    "plt.plot(x, y, 'bo', label='Generated data', markersize=1)\n",
    "plt.plot(x, funclin(alfa,betta,x),'', color = 'black', linewidth=1, label=\"Generating line\")\n",
    "plt.plot(x, funcrat(alfa_rat_1,betta_rat_1,x),'', color = 'red', linewidth=1, label=\"Method of Gradient Descent\")\n",
    "plt.plot(x, funcrat(alfa_rat_2,betta_rat_2,x),'', color = 'green', linewidth=1, label=\"Method of Conjugate Gradient Descent\")\n",
    "plt.plot(x, funcrat(alfa_rat_3,betta_rat_3,x),'', color = 'orange', linewidth=1, label=\"Newton’s Method\")\n",
    "plt.plot(x, funcrat(alfa_rat_4,betta_rat_4,x),'', color = 'brown', linewidth=1, label=\"Levenberg-Marquardt Algorithm\")\n",
    "\n",
    "plt.legend()\n",
    "plt.xlabel(\"x\")\n",
    "plt.ylabel(\"f(x)\")\n",
    "plt.savefig(fname = \"D:/Магистр/Algorithms/graph_2lab_task3_rat.png\", dpi=300, facecolor='w', edgecolor='w',\n",
    "            orientation='portrait', papertype=None, format=None, \n",
    "            transparent=False, bbox_inches=None, pad_inches=0.1,\n",
    "            frameon=None, metadata=None)"
   ]
  },
  {
   "cell_type": "code",
   "execution_count": null,
   "metadata": {},
   "outputs": [],
   "source": [
    "def Levenberg_Marquardt(funcmls, grad, hessian, a0, b0, eps, x, y):\n",
    "    xiter = 0\n",
    "    yiter = 0\n",
    "    koord0 = np.array([a0,b0])\n",
    "\n",
    "    deltab = (grad(koord0,x,y)*np.sum(y-(koord0[0]*x+koord0[1])))/np.matmul(grad(koord0,x,y),grad(koord0,x,y))\n",
    "    koord1 = koord0+deltab\n",
    "\n",
    "    while (np.linalg.norm(koord1-koord0) > eps):\n",
    "        #f = lambda a: funcmls(grad(koord0,x,y)*np.sum(y-(koord0[0]*x+koord0[1])))/(np.matmul(grad(koord0,x,y),grad(koord0,x,y)+a),x,y)\n",
    "        #alfa = minimize(f,1,method='Nelder-Mead').x\n",
    "        deltab = (grad(koord0,x,y)*np.sum(y-(koord0[0]*x+koord0[1])))/(np.matmul(grad(koord0,x,y),grad(koord0,x,y)))\n",
    "        koord0 = koord1\n",
    "        koord1 = koord0+deltab\n",
    "        \n",
    "    return (koord1[0], koord1[1], yiter, xiter)\n",
    "\n",
    "a3,b3, yiter3, xiter3 = Levenberg_Marquardt(funcmls_lin, lin_grad, lin_hessian, 0, 0, 0.01, x, y)\n",
    "print(a3,b3, yiter3, xiter3)"
   ]
  }
 ],
 "metadata": {
  "interpreter": {
   "hash": "7fd27acf9a94a5a6fa3c4459901576d754097efd5b0d4e01531075eeaad970fb"
  },
  "kernelspec": {
   "display_name": "Python 3.8.8 64-bit ('ml': conda)",
   "name": "python3"
  },
  "language_info": {
   "codemirror_mode": {
    "name": "ipython",
    "version": 3
   },
   "file_extension": ".py",
   "mimetype": "text/x-python",
   "name": "python",
   "nbconvert_exporter": "python",
   "pygments_lexer": "ipython3",
   "version": "3.8.8"
  },
  "orig_nbformat": 4
 },
 "nbformat": 4,
 "nbformat_minor": 2
}
