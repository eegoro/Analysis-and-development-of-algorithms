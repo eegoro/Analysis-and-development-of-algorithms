{
 "cells": [
  {
   "cell_type": "code",
   "execution_count": 1,
   "metadata": {},
   "outputs": [],
   "source": [
    "import numpy as np\n",
    "import numpy.random as rand\n",
    "import math\n",
    "import time\n",
    "import matplotlib.pyplot as plt\n",
    "from scipy.optimize import curve_fit\n",
    "from scipy.optimize import minimize"
   ]
  },
  {
   "cell_type": "markdown",
   "metadata": {},
   "source": [
    "# The one-dimensional methods of exhaustive search, dichotomy and golden section search to find an approximate solution"
   ]
  },
  {
   "cell_type": "code",
   "execution_count": 2,
   "metadata": {},
   "outputs": [],
   "source": [
    "#exhaustive search\n",
    "def exsearch(a, b, eps, f):\n",
    "    n = math.ceil((b-a)/eps)\n",
    "    xmin = a\n",
    "    fmin = f(xmin)\n",
    "    for k in range(1, n + 1):\n",
    "        xk = a + k*(b-a)/n \n",
    "        fk = f(xk)\n",
    "        if fk<fmin:\n",
    "            xmin = xk\n",
    "            fmin = fk\n",
    "    return xmin, n, n\n",
    "\n",
    "#dichotomy method\n",
    "def dichsearch (a, b, eps, f):\n",
    "    delta = eps/2\n",
    "    iter = 0\n",
    "    xmin = 0\n",
    "    while math.fabs(a-b)>=eps:\n",
    "        iter = iter+1\n",
    "        x1 = (a+b-delta)/2\n",
    "        x2 = (a+b+delta)/2\n",
    "\n",
    "\n",
    "        if f(x1)<=f(x2):\n",
    "            b = x2\n",
    "        else:\n",
    "            a = x1\n",
    "\n",
    "    if (f(a)<=f(b)):\n",
    "        xmin = a\n",
    "    else:\n",
    "        xmin = b\n",
    "\n",
    "    return xmin, iter*2, iter\n",
    "\n",
    "#golden section method\n",
    "def goldsecsearch (a, b, eps, f):\n",
    "    iter = 0\n",
    "    xmin = 0\n",
    "    x1 = a+(3-5**0.5)*(b-a)/2\n",
    "    x2 = b+(5**0.5-3)*(b-a)/2\n",
    "    f1 = f(x1)\n",
    "    f2 = f(x2)\n",
    "    while math.fabs(a-b)>=eps:\n",
    "        iter = iter+1\n",
    "        if f1<=f2:\n",
    "            b = x2\n",
    "            x2 = x1\n",
    "            f2 = f1\n",
    "            x1 = a+(3-5**0.5)*(b-a)/2\n",
    "            f1 = f(x1)\n",
    "        else:\n",
    "            a = x1\n",
    "            x1 = x2\n",
    "            f1 = f2\n",
    "            x2 = b+(5**0.5-3)*(b-a)/2\n",
    "            f2 = f(x2)\n",
    "\n",
    "    if (f(a)<=f(b)):\n",
    "        xmin = a\n",
    "    else:\n",
    "        xmin = b\n",
    "\n",
    "    return xmin, iter+2, iter\n"
   ]
  },
  {
   "cell_type": "markdown",
   "metadata": {},
   "source": [
    "# Given functions "
   ]
  },
  {
   "cell_type": "code",
   "execution_count": 3,
   "metadata": {},
   "outputs": [],
   "source": [
    "def funcpower3(x):\n",
    "    return x*x*x\n",
    "def funcabs(x):\n",
    "    return math.fabs(x-0.2)\n",
    "def funcsin(x):\n",
    "    return x*math.sin(1/x)"
   ]
  },
  {
   "cell_type": "markdown",
   "metadata": {},
   "source": [
    "# Graphical representation of given functions"
   ]
  },
  {
   "cell_type": "code",
   "execution_count": 4,
   "metadata": {},
   "outputs": [
    {
     "name": "stderr",
     "output_type": "stream",
     "text": [
      "<ipython-input-4-dec5fe240471>:17: MatplotlibDeprecationWarning: savefig() got unexpected keyword argument \"papertype\" which is no longer supported as of 3.3 and will become an error two minor releases later\n",
      "  plt.savefig(fname = \"D:/Магистр/Algorithms/graph_2lab_task1.png\", dpi=300, facecolor='w', edgecolor='w',\n",
      "<ipython-input-4-dec5fe240471>:17: MatplotlibDeprecationWarning: savefig() got unexpected keyword argument \"frameon\" which is no longer supported as of 3.3 and will become an error two minor releases later\n",
      "  plt.savefig(fname = \"D:/Магистр/Algorithms/graph_2lab_task1.png\", dpi=300, facecolor='w', edgecolor='w',\n"
     ]
    },
    {
     "data": {
      "image/png": "[encoded data removed]",
      "text/plain": [
       "<Figure size 720x360 with 1 Axes>"
      ]
     },
     "metadata": {
      "needs_background": "light"
     },
     "output_type": "display_data"
    }
   ],
   "source": [
    "x1 = np.arange(0, 1.001, 0.001)\n",
    "\n",
    "x2 = np.arange(0, 1.001, 0.001)\n",
    "f2 = np.vectorize(funcabs)\n",
    "\n",
    "x3 = np.arange(0.1, 1.001, 0.001)\n",
    "f3 = np.vectorize(funcsin)\n",
    "\n",
    "plt.figure(figsize=(10,5))\n",
    "plt.plot(x1,funcpower3(x1),'', color = 'black', linewidth=1, label=\"f(x) = x$^3$\")\n",
    "plt.plot(x2,f2(x2),'', color = 'blue', linewidth=1, label=\"f(x) = |x-0.2|\")\n",
    "plt.plot(x3,f3(x3),'', color = 'red', linewidth=1, label='$f(x) = x \\cdot sin(1/x) $')\n",
    "\n",
    "plt.legend()\n",
    "plt.xlabel(\"x\")\n",
    "plt.ylabel(\"f(x)\")\n",
    "plt.savefig(fname = \"./graph_2lab_task1.png\", dpi=300, facecolor='w', edgecolor='w',\n",
    "            orientation='portrait', papertype=None, format=None, \n",
    "            transparent=False, bbox_inches=None, pad_inches=0.1,\n",
    "            frameon=None, metadata=None)"
   ]
  },
  {
   "cell_type": "markdown",
   "metadata": {},
   "source": [
    "# Calculation results"
   ]
  },
  {
   "cell_type": "code",
   "execution_count": 5,
   "metadata": {},
   "outputs": [
    {
     "name": "stdout",
     "output_type": "stream",
     "text": [
      "+-----------+----------+-------------------+-----------+---------------+--------------------------+----------------------+\n",
      "|  Function |  Domain  |       Method      | x minimum | f(x mininmum) | number of f-calculations | number of iterations |\n",
      "+-----------+----------+-------------------+-----------+---------------+--------------------------+----------------------+\n",
      "|    x^3    |  [0,1]   | Exhaustive search |   0.000   |     0.000     |           1000           |         1000         |\n",
      "|    x^3    |  [0,1]   |     Dichotomy     |   0.000   |     0.000     |            22            |          11          |\n",
      "|    x^3    |  [0,1]   |   Golden section  |   0.000   |     0.000     |            17            |          15          |\n",
      "|           |          |                   |           |               |                          |                      |\n",
      "|  |x-0.2|  |  [0,1]   | Exhaustive search |   0.200   |     0.000     |           1000           |         1000         |\n",
      "|  |x-0.2|  |  [0,1]   |     Dichotomy     |   0.200   |     0.000     |            22            |          11          |\n",
      "|  |x-0.2|  |  [0,1]   |   Golden section  |   0.200   |     0.000     |            17            |          15          |\n",
      "|           |          |                   |           |               |                          |                      |\n",
      "| xsin(1/x) | [0.01,1] | Exhaustive search |   0.223   |     -0.217    |           990            |         990          |\n",
      "| xsin(1/x) | [0.01,1] |     Dichotomy     |   0.222   |     -0.217    |            22            |          11          |\n",
      "| xsin(1/x) | [0.01,1] |   Golden section  |   0.222   |     -0.217    |            17            |          15          |\n",
      "+-----------+----------+-------------------+-----------+---------------+--------------------------+----------------------+\n"
     ]
    }
   ],
   "source": [
    "xmin_ex_1, countf_ex_1, iter_ex_1 = exsearch(0, 1, 0.001, funcpower3)\n",
    "xmin_dich_1, countf_dich_1, iter_dich_1 = dichsearch(0, 1, 0.001, funcpower3)\n",
    "xmin_gold_1, countf_gold_1, iter_gold_1 = goldsecsearch(0, 1, 0.001, funcpower3)\n",
    "\n",
    "xmin_ex_2, countf_ex_2, iter_ex_2 = exsearch(0, 1, 0.001, funcabs)\n",
    "xmin_dich_2, countf_dich_2, iter_dich_2 = dichsearch(0, 1, 0.001, funcabs)\n",
    "xmin_gold_2, countf_gold_2, iter_gold_2 = goldsecsearch(0, 1, 0.001, funcabs)\n",
    "\n",
    "xmin_ex_3, countf_ex_3, iter_ex_3 = exsearch(0.01, 1, 0.001, funcsin)\n",
    "xmin_dich_3, countf_dich_3, iter_dich_3 = dichsearch(0.01, 1, 0.001, funcsin)\n",
    "xmin_gold_3, countf_gold_3, iter_gold_3 = goldsecsearch(0.01, 1, 0.001, funcsin)\n",
    "\n",
    "from prettytable import PrettyTable\n",
    "th = ['Function', 'Domain', 'Method', 'x minimum', 'f(x mininmum)', 'number of f-calculations', 'number of iterations' ]\n",
    "td = ['x^3', '[0,1]', 'Exhaustive search', '%.3f' % xmin_ex_1, '%.3f' % funcpower3(xmin_ex_1), countf_ex_1, iter_ex_1,\n",
    "      'x^3', '[0,1]', 'Dichotomy', '%.3f' % xmin_dich_1, '%.3f' % funcpower3(xmin_dich_1), countf_dich_1, iter_dich_1,\n",
    "      'x^3', '[0,1]', 'Golden section', '%.3f' % xmin_gold_1, '%.3f' % funcpower3(xmin_gold_1), countf_gold_1, iter_gold_1,\n",
    "      '', '', '', '', '', '', '',\n",
    "      '|x-0.2|', '[0,1]', 'Exhaustive search', '%.3f' % xmin_ex_2, '%.3f' % funcabs(xmin_ex_2), countf_ex_2, iter_ex_2,\n",
    "      '|x-0.2|', '[0,1]', 'Dichotomy', '%.3f' % xmin_dich_2, '%.3f' % funcabs(xmin_dich_2), countf_dich_2, iter_dich_2,\n",
    "      '|x-0.2|', '[0,1]', 'Golden section', '%.3f' % xmin_gold_2, '%.3f' % funcabs(xmin_gold_2), countf_gold_2, iter_gold_2,\n",
    "      '', '', '', '', '', '','',\n",
    "      'xsin(1/x)', '[0.01,1]', 'Exhaustive search', '%.3f' % xmin_ex_3, '%.3f' % funcsin(xmin_ex_3), countf_ex_3, iter_ex_3,\n",
    "      'xsin(1/x)', '[0.01,1]', 'Dichotomy', '%.3f' % xmin_dich_3,  '%.3f' % funcsin(xmin_dich_3), countf_dich_3, iter_dich_3,\n",
    "      'xsin(1/x)', '[0.01,1]', 'Golden section', '%.3f' % xmin_gold_3, '%.3f' % funcsin(xmin_gold_3),  countf_gold_3, iter_gold_3]\n",
    "\n",
    "columns = len(th)\n",
    "table = PrettyTable(th)\n",
    "td_data = td[:]\n",
    "\n",
    "while td_data:\n",
    "    table.add_row(td_data[:columns])\n",
    "    td_data = td_data[columns:]\n",
    "\n",
    "print(table) "
   ]
  },
  {
   "cell_type": "markdown",
   "metadata": {},
   "source": [
    "# Linear and rational functions and  numerical minimization functions for the method of least squares"
   ]
  },
  {
   "cell_type": "code",
   "execution_count": 6,
   "metadata": {},
   "outputs": [],
   "source": [
    "def funclin(a,b,x):\n",
    "    return a*x+b\n",
    "def funcrat(a,b,x):\n",
    "    return a/(1+b*x)\n",
    "\n",
    "\n",
    "def funcmls(f,y):\n",
    "    return (f-y)**2\n"
   ]
  },
  {
   "cell_type": "code",
   "execution_count": 21,
   "metadata": {},
   "outputs": [
    {
     "name": "stdout",
     "output_type": "stream",
     "text": [
      "32\n",
      "16\n",
      "[0.25498047]\n"
     ]
    }
   ],
   "source": [
    "func = lambda b: sum(funcmls(funclin(0.4,b,x),y))\n",
    "print(minimize(func,1,method='Nelder-Mead', options={'return_all': True}).nfev)\n",
    "\n",
    "print(minimize(func,1,method='Nelder-Mead', options={'return_all': True}).nit)\n",
    "\n",
    "print(minimize(func,1,method='Nelder-Mead', options={'return_all': True}).x)\n",
    "\n",
    "#minimize(func,1,method='Nelder-Mead', options={'return_all': True})"
   ]
  },
  {
   "cell_type": "markdown",
   "metadata": {},
   "source": [
    "# Methods of exhaustive search, Gauss and Nelder-Mead for solve the minimization problem"
   ]
  },
  {
   "cell_type": "code",
   "execution_count": 22,
   "metadata": {},
   "outputs": [],
   "source": [
    "#exhaustive search for method  of least squares\n",
    "def exsearchmls(x, y, a_from, a_to, b_from, b_to, eps, f):\n",
    "    iterf = 0\n",
    "    amin = a_from\n",
    "    bmin = b_from\n",
    "    fmin = sum(funcmls(f(amin,bmin,x),y))\n",
    "   # print(fmin)\n",
    "    for a in np.arange(a_from+eps, a_to+eps, eps):\n",
    "       # print(a)\n",
    "        for b in np.arange(b_from+eps, b_to+eps, eps):\n",
    "           # print(b)\n",
    "            iterf = iterf+1\n",
    "            fk = sum(funcmls(f(a,b,x),y))\n",
    "            if fk<fmin:\n",
    "                fmin = fk\n",
    "                amin = a\n",
    "                bmin = b\n",
    "    return amin, bmin, iterf+1, iterf\n",
    "\n",
    "#Gauss for method of least squares\n",
    "\n",
    "def gaussmls(x, y, a_from, a_to, b_from, b_to, eps, f):\n",
    "    iterf = 0\n",
    "    iterx = 0\n",
    "    flag = 1\n",
    "    amin = a_from\n",
    "    bmin = b_from\n",
    "    fmin_1 = sum(funcmls(f(amin,bmin,x),y))\n",
    "    iterf = iterf+1\n",
    "    fmin_0 = fmin_1+2*eps\n",
    "    \n",
    "    while math.fabs(fmin_0-fmin_1)>=eps:\n",
    "        fmin_0 = fmin_1\n",
    "        if flag == 0:\n",
    "            func = lambda b: sum(funcmls(f(amin,b,x),y))\n",
    "            min_list = minimize(func,1,method='Nelder-Mead', options={'return_all': True})\n",
    "            bmin = min_list.x\n",
    "            iterf += (1+min_list.nfev)\n",
    "            iterx += (1+min_list.nit)\n",
    "            flag = 1\n",
    "\n",
    "        else:\n",
    "            func = lambda a: sum(funcmls(f(a,bmin,x),y))\n",
    "            min_list = minimize(func,1,method='Nelder-Mead', options={'return_all': True})\n",
    "            amin = min_list.x\n",
    "            iterf += (1+min_list.nfev)\n",
    "            iterx += (1+min_list.nit)\n",
    "            flag = 0\n",
    "        fmin_1 = sum(funcmls(f(amin,bmin,x),y))\n",
    "    return amin, bmin, iterf, iterx\n",
    "\n",
    "#Nelder-Mead for method of least squares\n",
    "def neldermls(x, y, a_from, a_to, b_from, b_to, eps, f):\n",
    "    iterf = 0\n",
    "    iterx = 0\n",
    "    koef_alfa = 1\n",
    "    koef_betta = 0.5\n",
    "    koef_gamma = 2\n",
    "    \n",
    "    dtype = [('a', float), ('b', float), ('f', float)]\n",
    "    matrix_simplex = np.array([(a_from, b_from, sum(funcmls(f(a_from, b_from,x),y))),\n",
    "    (a_from+eps, b_from, sum(funcmls(f(a_to, b_from,x),y))),\n",
    "    (a_from, b_from+eps, sum(funcmls(f(a_from, b_to,x),y)))], dtype=dtype)\n",
    "    f_only = np.array([matrix_simplex[0][2], matrix_simplex[1][2], matrix_simplex[2][2]])\n",
    "    matrix_simplex.sort(order='f')\n",
    "    iterf = iterf+3\n",
    "    \n",
    "    while (np.var(f_only)>=eps):\n",
    "        \n",
    "        iterx = iterx+1\n",
    "        matrix_simplex_copy = matrix_simplex\n",
    "        xc_a = (matrix_simplex[0][0] + matrix_simplex[1][0])/2\n",
    "        xc_b = (matrix_simplex[0][1] + matrix_simplex[1][1])/2\n",
    "\n",
    "        xr_a = (1+koef_alfa)*xc_a - koef_alfa*matrix_simplex[2][0]\n",
    "        xr_b = (1+koef_alfa)*xc_b - koef_alfa*matrix_simplex[2][1]\n",
    "        fr =  sum(funcmls(f(xr_a, xr_b,x),y))\n",
    "        iterf = iterf+1\n",
    "\n",
    "        if fr<=matrix_simplex[0][2]:\n",
    "            xe_a = (1-koef_gamma)*xc_a + koef_gamma*xr_a\n",
    "            xe_b = (1-koef_gamma)*xc_b + koef_gamma*xr_b\n",
    "            fe =  sum(funcmls(f(xe_a, xe_b,x),y))\n",
    "            iterf = iterf+1\n",
    "\n",
    "            if fe<fr:\n",
    "                matrix_simplex[2][0]=xe_a\n",
    "                matrix_simplex[2][1]=xe_b\n",
    "                matrix_simplex[2][2]=fe\n",
    "                #шаг 7\n",
    "            else:\n",
    "                matrix_simplex[2][0]=xr_a\n",
    "                matrix_simplex[2][1]=xr_b\n",
    "                matrix_simplex[2][2]=fr\n",
    "                #шаг 7\n",
    "        else:\n",
    "            if fr<=matrix_simplex[1][2]:\n",
    "                matrix_simplex[2][0]=xr_a\n",
    "                matrix_simplex[2][1]=xr_b\n",
    "                matrix_simplex[2][2]=fr\n",
    "                #шаг 7\n",
    "            else:\n",
    "                if fr<=matrix_simplex[2][2]:\n",
    "                    local_a = matrix_simplex[2][0]\n",
    "                    local_b = matrix_simplex[2][1]\n",
    "                    local_f = matrix_simplex[2][2]\n",
    "                    matrix_simplex[2][0]=xr_a\n",
    "                    matrix_simplex[2][1]=xr_b\n",
    "                    matrix_simplex[2][2]=fr\n",
    "                    xr_a = local_a\n",
    "                    xr_b = local_b\n",
    "                    fr = local_f\n",
    "                    \n",
    "                    xs_a = koef_betta*matrix_simplex[2][0]+(1-koef_betta)*xc_a\n",
    "                    xs_b = koef_betta*matrix_simplex[2][1]+(1-koef_betta)*xc_b\n",
    "                    fs = sum(funcmls(f(xs_a, xs_b,x),y))\n",
    "                    iterf = iterf+1\n",
    "\n",
    "                    if fs<matrix_simplex[2][2]:\n",
    "                        matrix_simplex[2][0]=xs_a\n",
    "                        matrix_simplex[2][1]=xs_b\n",
    "                        matrix_simplex[2][2]=fs\n",
    "                        #шаг 7\n",
    "                    else:\n",
    "                        matrix_simplex[1][0]=matrix_simplex_copy[0][0]+(matrix_simplex_copy[1][0]-matrix_simplex_copy[0][0])/2\n",
    "                        matrix_simplex[1][1]=matrix_simplex_copy[0][1]+(matrix_simplex_copy[1][1]-matrix_simplex_copy[0][1])/2\n",
    "                        matrix_simplex[1][2]=sum(funcmls(f( matrix_simplex_copy[1][0], matrix_simplex_copy[1][1],x),y))\n",
    "                        iterf = iterf+1\n",
    "\n",
    "                        matrix_simplex[2][0]=matrix_simplex_copy[0][0]+(matrix_simplex_copy[2][0]-matrix_simplex_copy[0][0])/2\n",
    "                        matrix_simplex[2][1]=matrix_simplex_copy[0][2]+(matrix_simplex_copy[2][1]-matrix_simplex_copy[0][2])/2\n",
    "                        matrix_simplex[2][2]=sum(funcmls(f( matrix_simplex_copy[2][0], matrix_simplex_copy[2][1],x),y))\n",
    "                        iterf = iterf+1\n",
    "                        #шаг 7\n",
    "\n",
    "                else:\n",
    "                        xs_a = koef_betta*matrix_simplex[2][0]+(1-koef_betta)*xc_a\n",
    "                        xs_b = koef_betta*matrix_simplex[2][1]+(1-koef_betta)*xc_b\n",
    "                        fs = sum(funcmls(f(xs_a, xs_b,x),y))\n",
    "                        iterf = iterf+1\n",
    "\n",
    "                        if fs<matrix_simplex[2][2]:\n",
    "                            matrix_simplex[2][0]=xs_a\n",
    "                            matrix_simplex[2][1]=xs_b\n",
    "                            matrix_simplex[2][2]=fs\n",
    "                            #шаг 7\n",
    "                        else:\n",
    "                            matrix_simplex[1][0]=matrix_simplex_copy[0][0]+(matrix_simplex_copy[1][0]-matrix_simplex_copy[0][0])/2\n",
    "                            matrix_simplex[1][1]=matrix_simplex_copy[0][1]+(matrix_simplex_copy[1][1]-matrix_simplex_copy[0][1])/2\n",
    "                            matrix_simplex[1][2]=sum(funcmls(f( matrix_simplex_copy[1][0], matrix_simplex_copy[1][1],x),y))\n",
    "                            iterf = iterf+1\n",
    "\n",
    "                            matrix_simplex[2][0]=matrix_simplex_copy[0][0]+(matrix_simplex_copy[2][0]-matrix_simplex_copy[0][0])/2\n",
    "                            matrix_simplex[2][1]=matrix_simplex_copy[0][2]+(matrix_simplex_copy[2][1]-matrix_simplex_copy[0][2])/2\n",
    "                            matrix_simplex[2][2]=sum(funcmls(f( matrix_simplex_copy[2][0], matrix_simplex_copy[2][1],x),y))\n",
    "                            iterf = iterf+1\n",
    "                            #шаг 7\n",
    "\n",
    "        f_only = np.array([matrix_simplex[0][2], matrix_simplex[1][2], matrix_simplex[2][2]])\n",
    "        matrix_simplex.sort(order='f')\n",
    "\n",
    "\n",
    "    return  matrix_simplex[0][0], matrix_simplex[0][1], iterf, iterx"
   ]
  },
  {
   "cell_type": "markdown",
   "metadata": {},
   "source": [
    "# Generate data"
   ]
  },
  {
   "cell_type": "code",
   "execution_count": 23,
   "metadata": {},
   "outputs": [
    {
     "name": "stdout",
     "output_type": "stream",
     "text": [
      "0.5842074286069219 0.46150243493383736\n"
     ]
    }
   ],
   "source": [
    "from random import random\n",
    "from random import normalvariate\n",
    "alfa = random()\n",
    "betta = random()\n",
    "k = np.arange (101)\n",
    "x = k/100\n",
    "y = np.array(k,dtype='float32')\n",
    "\n",
    "for k in range(101): \n",
    "    delta = normalvariate(0, 1)\n",
    "    y[k] = alfa*x[k]+betta+delta\n",
    "\n",
    "print (alfa, betta)"
   ]
  },
  {
   "cell_type": "markdown",
   "metadata": {},
   "source": [
    "# Calculation results"
   ]
  },
  {
   "cell_type": "code",
   "execution_count": 27,
   "metadata": {},
   "outputs": [
    {
     "name": "stdout",
     "output_type": "stream",
     "text": [
      "+----------+-------------------+-------+--------+-----------+---------------------------+----------------------+\n",
      "| Function |       Method      |   a   |   b    | minimum f |  number of f-calculations | number of iterations |\n",
      "+----------+-------------------+-------+--------+-----------+---------------------------+----------------------+\n",
      "|   ax+b   | Exhaustive search | 0.821 | 0.215  |  105.533  |           40201           |        40200         |\n",
      "|   ax+b   |       Gauss       | 0.838 | 0.206  |  105.540  |            521            |         269          |\n",
      "|   ax+b   |    Nelder-Mead    | 0.700 | 0.256  |  105.699  |             25            |          10          |\n",
      "|          |                   |       |        |           |                           |                      |\n",
      "| a/(1+bx) | Exhaustive search | 0.412 | -0.607 |  106.957  |           40001           |        40000         |\n",
      "| a/(1+bx) |       Gauss       | 0.408 | -0.615 |  106.959  |            528            |         271          |\n",
      "| a/(1+bx) |    Nelder-Mead    | 0.300 | -0.700 |  108.477  |             5             |          2           |\n",
      "+----------+-------------------+-------+--------+-----------+---------------------------+----------------------+\n"
     ]
    }
   ],
   "source": [
    "alfa_lin_1,betta_lin_1,countf_lin_1,iter_lin_1 = exsearchmls(x,y,0.7,0.9,0.1,0.3,0.001,funclin)\n",
    "res_lin_1 = sum(funcmls(funclin(alfa_lin_1,betta_lin_1,x),y))\n",
    "alfa_lin_2,betta_lin_2,countf_lin_2,iter_lin_2 = gaussmls(x,y,0.7,0.9,0.1,0.3,0.001,funclin)\n",
    "res_lin_2 = sum(funcmls(funclin(alfa_lin_1,betta_lin_2,x),y))\n",
    "alfa_lin_3,betta_lin_3,countf_lin_3,iter_lin_3 = neldermls(x,y,0.7,0.9,0.1,0.3,0.001,funclin)\n",
    "res_lin_3 = sum(funcmls(funclin(alfa_lin_3,betta_lin_3,x),y))\n",
    "\n",
    "\n",
    "alfa_rat_1,betta_rat_1,countf_rat_1,iter_rat_1 = exsearchmls(x,y,0.3,0.5,-0.7,-0.5,0.001,funcrat)\n",
    "res_rat_1 = sum(funcmls(funcrat(alfa_rat_1,betta_rat_1,x),y))\n",
    "alfa_rat_2,betta_rat_2,countf_rat_2,iter_rat_2 = gaussmls(x,y,0.3,0.5,-0.7,-0.5,0.001,funcrat)\n",
    "res_rat_2 = sum(funcmls(funcrat(alfa_rat_2,betta_rat_2,x),y))\n",
    "alfa_rat_3,betta_rat_3,countf_rat_3,iter_rat_3 = neldermls(x,y,0.3,0.5,-0.7,-0.5,0.001,funcrat)\n",
    "res_rat_3 = sum(funcmls(funcrat(alfa_rat_3,betta_rat_3,x),y))\n",
    "\n",
    "from prettytable import PrettyTable\n",
    "th = ['Function', 'Method', 'a', 'b', 'minimum f', ' number of f-calculations', 'number of iterations' ]\n",
    "td = ['ax+b', 'Exhaustive search', '%.3f' % alfa_lin_1, '%.3f' % betta_lin_1, '%.3f' % res_lin_1, countf_lin_1, iter_lin_1,\n",
    "      'ax+b', 'Gauss', '%.3f' % alfa_lin_2, '%.3f' % betta_lin_2, '%.3f' % res_lin_2, countf_lin_2, iter_lin_2,\n",
    "      'ax+b', 'Nelder-Mead', '%.3f' % alfa_lin_3, '%.3f' % betta_lin_3, '%.3f' % res_lin_3, countf_lin_3, iter_lin_3,\n",
    "      '', '', '', '', '', '', '',\n",
    "      'a/(1+bx)', 'Exhaustive search', '%.3f' % alfa_rat_1, '%.3f' % betta_rat_1, '%.3f' % res_rat_1, countf_rat_1, iter_rat_1,\n",
    "      'a/(1+bx)', 'Gauss', '%.3f' % alfa_rat_2, '%.3f' % betta_rat_2, '%.3f' % res_rat_2, countf_rat_2, iter_rat_2,\n",
    "      'a/(1+bx)', 'Nelder-Mead', '%.3f' % alfa_rat_3, '%.3f' % betta_rat_3, '%.3f' % res_rat_3, countf_rat_3, iter_rat_3]\n",
    "\n",
    "columns = len(th)\n",
    "table = PrettyTable(th)\n",
    "td_data = td[:]\n",
    "\n",
    "while td_data:\n",
    "    table.add_row(td_data[:columns])\n",
    "    td_data = td_data[columns:]\n",
    "\n",
    "print(table) "
   ]
  },
  {
   "cell_type": "markdown",
   "metadata": {},
   "source": [
    "# Validation by existing python methods"
   ]
  },
  {
   "cell_type": "code",
   "execution_count": 26,
   "metadata": {},
   "outputs": [
    {
     "name": "stdout",
     "output_type": "stream",
     "text": [
      "0.8214857579054052 0.2146114085827021\n",
      "105.53335429848565\n",
      "0.41194712097381386 -0.6074415161462062\n",
      "106.95724876012937\n"
     ]
    }
   ],
   "source": [
    "def lin(x,a,b):\n",
    "    return a*x + b\n",
    "\n",
    "popt, _ = curve_fit(lin, x, y)\n",
    "a_sum, b_sum = popt\n",
    "\n",
    "print (a_sum, b_sum)\n",
    "print(sum(funcmls(funclin(a_sum, b_sum,x),y)))\n",
    "\n",
    "def rat(x,a,b):\n",
    "    return a/(b*x + 1)\n",
    "    \n",
    "popt, _ = curve_fit(rat, x, y)\n",
    "a_sum, b_sum = popt\n",
    "\n",
    "print (a_sum, b_sum)\n",
    "print(sum(funcmls(funcrat(a_sum, b_sum,x),y)))"
   ]
  },
  {
   "cell_type": "markdown",
   "metadata": {},
   "source": [
    "# Results graphs"
   ]
  },
  {
   "cell_type": "code",
   "execution_count": 28,
   "metadata": {},
   "outputs": [
    {
     "name": "stderr",
     "output_type": "stream",
     "text": [
      "<ipython-input-28-1684a4730708>:11: MatplotlibDeprecationWarning: savefig() got unexpected keyword argument \"papertype\" which is no longer supported as of 3.3 and will become an error two minor releases later\n",
      "  plt.savefig(fname = \"./graph_2lab_task2_lin.png\", dpi=300, facecolor='w', edgecolor='w',\n",
      "<ipython-input-28-1684a4730708>:11: MatplotlibDeprecationWarning: savefig() got unexpected keyword argument \"frameon\" which is no longer supported as of 3.3 and will become an error two minor releases later\n",
      "  plt.savefig(fname = \"./graph_2lab_task2_lin.png\", dpi=300, facecolor='w', edgecolor='w',\n",
      "<ipython-input-28-1684a4730708>:26: MatplotlibDeprecationWarning: savefig() got unexpected keyword argument \"papertype\" which is no longer supported as of 3.3 and will become an error two minor releases later\n",
      "  plt.savefig(fname = \"./graph_2lab_task2_rat.png\", dpi=300, facecolor='w', edgecolor='w',\n",
      "<ipython-input-28-1684a4730708>:26: MatplotlibDeprecationWarning: savefig() got unexpected keyword argument \"frameon\" which is no longer supported as of 3.3 and will become an error two minor releases later\n",
      "  plt.savefig(fname = \"./graph_2lab_task2_rat.png\", dpi=300, facecolor='w', edgecolor='w',\n"
     ]
    },
    {
     "data": {
      "image/png": "[encoded data removed]",
      "text/plain": [
       "<Figure size 720x360 with 1 Axes>"
      ]
     },
     "metadata": {
      "needs_background": "light"
     },
     "output_type": "display_data"
    },
    {
     "data": {
      "image/png": "[encoded data removed]",
      "text/plain": [
       "<Figure size 720x360 with 1 Axes>"
      ]
     },
     "metadata": {
      "needs_background": "light"
     },
     "output_type": "display_data"
    }
   ],
   "source": [
    "plt.figure(figsize=(10,5))\n",
    "plt.plot(x, y, 'bo', label='Generated data', markersize=1)\n",
    "plt.plot(x, funclin(alfa,betta,x),'', color = 'black', linewidth=1, label=\"Generating line\")\n",
    "plt.plot(x, funclin(alfa_lin_1,betta_lin_1,x),'', color = 'red', linewidth=1, label=\"Method of exhaustive search\")\n",
    "plt.plot(x, funclin(alfa_lin_2,betta_lin_2,x),'', color = 'green', linewidth=1, label=\"Method of Gauss\")\n",
    "plt.plot(x, funclin(alfa_lin_3,betta_lin_3,x),'', color = 'orange', linewidth=1, label=\"Method of Nelder-Mead\")\n",
    "\n",
    "plt.legend()\n",
    "plt.xlabel(\"x\")\n",
    "plt.ylabel(\"f(x)\")\n",
    "plt.savefig(fname = \"./graph_2lab_task2_lin.png\", dpi=300, facecolor='w', edgecolor='w',\n",
    "            orientation='portrait', papertype=None, format=None, \n",
    "            transparent=False, bbox_inches=None, pad_inches=0.1,\n",
    "            frameon=None, metadata=None)\n",
    "\n",
    "plt.figure(figsize=(10,5))\n",
    "plt.plot(x, y, 'bo', label='Generated data', markersize=1)\n",
    "plt.plot(x, funclin(alfa,betta,x),'', color = 'black', linewidth=1, label=\"Generating line\")\n",
    "plt.plot(x, funcrat(alfa_rat_1,betta_rat_1,x),'', color = 'red', linewidth=1, label=\"Method of exhaustive search\")\n",
    "plt.plot(x, funcrat(alfa_rat_2,betta_rat_2,x),'', color = 'green', linewidth=1, label=\"Method of Gauss\")\n",
    "plt.plot(x, funcrat(alfa_rat_3,betta_rat_3,x),'', color = 'orange', linewidth=1, label=\"Method of Nelder-Mead\")\n",
    "\n",
    "plt.legend()\n",
    "plt.xlabel(\"x\")\n",
    "plt.ylabel(\"f(x)\")\n",
    "plt.savefig(fname = \"./graph_2lab_task2_rat.png\", dpi=300, facecolor='w', edgecolor='w',\n",
    "            orientation='portrait', papertype=None, format=None, \n",
    "            transparent=False, bbox_inches=None, pad_inches=0.1,\n",
    "            frameon=None, metadata=None)"
   ]
  }
 ],
 "metadata": {
  "interpreter": {
   "hash": "07efdcd4b820c98a756949507a4d29d7862823915ec7477944641bea022f4f62"
  },
  "kernelspec": {
   "display_name": "Python 3.8.8 64-bit ('base': conda)",
   "name": "python3"
  },
  "language_info": {
   "codemirror_mode": {
    "name": "ipython",
    "version": 3
   },
   "file_extension": ".py",
   "mimetype": "text/x-python",
   "name": "python",
   "nbconvert_exporter": "python",
   "pygments_lexer": "ipython3",
   "version": "3.8.8"
  },
  "orig_nbformat": 4
 },
 "nbformat": 4,
 "nbformat_minor": 2
}
