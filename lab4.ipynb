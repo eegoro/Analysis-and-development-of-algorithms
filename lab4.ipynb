{
 "cells": [
  {
   "cell_type": "code",
   "execution_count": 1,
   "metadata": {},
   "outputs": [],
   "source": [
    "import numpy as np\n",
    "import numpy.random as rand\n",
    "import math\n",
    "import time\n",
    "import matplotlib.pyplot as plt\n",
    "from scipy.optimize import curve_fit\n",
    "from scipy.optimize import minimize"
   ]
  },
  {
   "cell_type": "markdown",
   "metadata": {},
   "source": [
    "# Generate data"
   ]
  },
  {
   "cell_type": "code",
   "execution_count": 2,
   "metadata": {},
   "outputs": [],
   "source": [
    "from random import random\n",
    "from random import normalvariate\n",
    "\n",
    "k = np.arange (1001)\n",
    "x = 3*k/1000\n",
    "y = np.array(k,dtype='float32')\n",
    "f = 1/(x**2-3*x+2)\n",
    "\n",
    "for k in range(1001): \n",
    "    delta = normalvariate(0, 1)\n",
    "    if (f[k]<-100):\n",
    "        y[k]=-100+delta\n",
    "    else:\n",
    "        if (f[k]>100):\n",
    "            y[k]=100+delta\n",
    "        else:\n",
    "            y[k] = f[k]+delta\n"
   ]
  },
  {
   "cell_type": "markdown",
   "metadata": {},
   "source": [
    "# LevenbergMarquardt algorithm"
   ]
  },
  {
   "cell_type": "code",
   "execution_count": 3,
   "metadata": {},
   "outputs": [
    {
     "name": "stdout",
     "output_type": "stream",
     "text": [
      "-0.9926730440144681 0.9931316273807674 -2.0008120124371076 1.0008278077823414\n"
     ]
    }
   ],
   "source": [
    "def func(x,a,b,c,d):\n",
    "    return (a*x + b)/(x**2+c*x+d)\n",
    "\n",
    "popt, _ = curve_fit(func, x, y, method = 'lm')\n",
    "a_lm, b_lm, c_lm, d_lm = popt\n",
    "print(a_lm, b_lm, c_lm, d_lm)"
   ]
  },
  {
   "cell_type": "code",
   "execution_count": 4,
   "metadata": {},
   "outputs": [],
   "source": [
    "f0 = lambda a: (a[0]*x + a[1])/(x**2+a[2]*x+a[3])\n",
    "from scipy.optimize import least_squares\n",
    "x0 = np.array([1, 1, 1, 1])\n",
    "res0 = least_squares(f0, x0, method ='lm')\n",
    "a_lm = res0.x[0]\n",
    "b_lm = res0.x[1]\n",
    "c_lm = res0.x[2]\n",
    "d_lm = res0.x[3]\n",
    "nit_lm = res0.nfev\n",
    "nfev_lm = res0.nfev"
   ]
  },
  {
   "cell_type": "markdown",
   "metadata": {},
   "source": [
    "# Nelder-Mead algorithm"
   ]
  },
  {
   "cell_type": "code",
   "execution_count": 6,
   "metadata": {},
   "outputs": [],
   "source": [
    "from scipy.optimize import minimize\n",
    "f = lambda a: sum(((a[0]*x + a[1])/(x**2+a[2]*x+a[3])-y)**2)\n",
    "x0 = np.array([1, 1, 1, 1])\n",
    "res = minimize(f,x0,method='Nelder-Mead')\n",
    "a_nm = res.x[0]\n",
    "b_nm = res.x[1]\n",
    "c_nm = res.x[2]\n",
    "d_nm = res.x[3]\n",
    "nit_nm = res.nit\n",
    "nfev_nm = res.nfev"
   ]
  },
  {
   "cell_type": "markdown",
   "metadata": {},
   "source": [
    "# Simulated Annealing"
   ]
  },
  {
   "cell_type": "code",
   "execution_count": 7,
   "metadata": {},
   "outputs": [],
   "source": [
    "from scipy.optimize import basinhopping\n",
    "minimizer_kwargs = {\"method\": \"BFGS\"}\n",
    "res1 = basinhopping(f, x0, minimizer_kwargs=minimizer_kwargs, niter=200)\n",
    "a_sa = res1.x[0]\n",
    "b_sa = res1.x[1]\n",
    "c_sa = res1.x[2]\n",
    "d_sa = res1.x[3]\n",
    "nit_sa = res1.nit\n",
    "nfev_sa = res1.nfev"
   ]
  },
  {
   "cell_type": "code",
   "execution_count": 8,
   "metadata": {},
   "outputs": [],
   "source": [
    "from scipy.optimize import dual_annealing\n",
    "lw = [-5.12] * 10\n",
    "up = [5.12] * 10\n",
    "res1 = dual_annealing(f, bounds=list(zip(lw, up)))\n",
    "a_sa = res1.x[0]\n",
    "b_sa = res1.x[1]\n",
    "c_sa = res1.x[2]\n",
    "d_sa = res1.x[3]\n",
    "nit_sa = res1.nit\n",
    "nfev_sa = res1.nfev"
   ]
  },
  {
   "cell_type": "markdown",
   "metadata": {},
   "source": [
    "# Differential Evolution"
   ]
  },
  {
   "cell_type": "code",
   "execution_count": 9,
   "metadata": {},
   "outputs": [
    {
     "name": "stdout",
     "output_type": "stream",
     "text": [
      "1 130\n"
     ]
    },
    {
     "name": "stderr",
     "output_type": "stream",
     "text": [
      "<ipython-input-6-1c1d6651aded>:2: RuntimeWarning: invalid value encountered in true_divide\n",
      "  f = lambda a: sum(((a[0]*x + a[1])/(x**2+a[2]*x+a[3])-y)**2)\n",
      "<ipython-input-6-1c1d6651aded>:2: RuntimeWarning: divide by zero encountered in true_divide\n",
      "  f = lambda a: sum(((a[0]*x + a[1])/(x**2+a[2]*x+a[3])-y)**2)\n"
     ]
    }
   ],
   "source": [
    "from scipy.optimize import differential_evolution\n",
    "bounds = [(0,2), (0, 2), (0, 2), (0, 2)]\n",
    "res2 = differential_evolution(f, bounds)\n",
    "a_de = res2.x[0]\n",
    "b_de = res2.x[1]\n",
    "c_de = res2.x[2]\n",
    "d_de = res2.x[3]\n",
    "nit_de = res2.nit\n",
    "nfev_de = res2.nfev\n",
    "print(nit_de, nfev_de)"
   ]
  },
  {
   "cell_type": "code",
   "execution_count": 10,
   "metadata": {},
   "outputs": [
    {
     "name": "stdout",
     "output_type": "stream",
     "text": [
      "Requirement already satisfied: pyswarms in d:\\anaconda\\envs\\ml\\lib\\site-packages (1.3.0)\n",
      "Requirement already satisfied: attrs in d:\\anaconda\\envs\\ml\\lib\\site-packages (from pyswarms) (20.3.0)\n",
      "Requirement already satisfied: numpy in d:\\anaconda\\envs\\ml\\lib\\site-packages (from pyswarms) (1.20.1)\n",
      "Requirement already satisfied: pyyaml in d:\\anaconda\\envs\\ml\\lib\\site-packages (from pyswarms) (5.4.1)\n",
      "Requirement already satisfied: matplotlib>=1.3.1 in d:\\anaconda\\envs\\ml\\lib\\site-packages (from pyswarms) (3.3.4)\n",
      "Requirement already satisfied: tqdm in d:\\anaconda\\envs\\ml\\lib\\site-packages (from pyswarms) (4.59.0)\n",
      "Requirement already satisfied: scipy in d:\\anaconda\\envs\\ml\\lib\\site-packages (from pyswarms) (1.6.2)\n",
      "Requirement already satisfied: future in d:\\anaconda\\envs\\ml\\lib\\site-packages (from pyswarms) (0.18.2)\n",
      "Requirement already satisfied: pyparsing!=2.0.4,!=2.1.2,!=2.1.6,>=2.0.3 in d:\\anaconda\\envs\\ml\\lib\\site-packages (from matplotlib>=1.3.1->pyswarms) (2.4.7)\n",
      "Requirement already satisfied: kiwisolver>=1.0.1 in d:\\anaconda\\envs\\ml\\lib\\site-packages (from matplotlib>=1.3.1->pyswarms) (1.3.1)\n",
      "Requirement already satisfied: python-dateutil>=2.1 in d:\\anaconda\\envs\\ml\\lib\\site-packages (from matplotlib>=1.3.1->pyswarms) (2.8.1)\n",
      "Requirement already satisfied: pillow>=6.2.0 in d:\\anaconda\\envs\\ml\\lib\\site-packages (from matplotlib>=1.3.1->pyswarms) (8.2.0)\n",
      "Requirement already satisfied: cycler>=0.10 in d:\\anaconda\\envs\\ml\\lib\\site-packages (from matplotlib>=1.3.1->pyswarms) (0.10.0)\n",
      "Requirement already satisfied: six in d:\\anaconda\\envs\\ml\\lib\\site-packages (from cycler>=0.10->matplotlib>=1.3.1->pyswarms) (1.15.0)\n",
      "Note: you may need to restart the kernel to use updated packages.\n"
     ]
    }
   ],
   "source": [
    "pip install --upgrade pyswarms"
   ]
  },
  {
   "cell_type": "markdown",
   "metadata": {},
   "source": [
    "# Particle Swarm Optimization"
   ]
  },
  {
   "cell_type": "code",
   "execution_count": 11,
   "metadata": {},
   "outputs": [
    {
     "name": "stderr",
     "output_type": "stream",
     "text": [
      "<ipython-input-6-1c1d6651aded>:2: RuntimeWarning: divide by zero encountered in true_divide\n",
      "  f = lambda a: sum(((a[0]*x + a[1])/(x**2+a[2]*x+a[3])-y)**2)\n",
      "<ipython-input-6-1c1d6651aded>:2: RuntimeWarning: invalid value encountered in true_divide\n",
      "  f = lambda a: sum(((a[0]*x + a[1])/(x**2+a[2]*x+a[3])-y)**2)\n"
     ]
    },
    {
     "name": "stdout",
     "output_type": "stream",
     "text": [
      "Stopping search: Swarm best objective change less than 1e-08\n",
      "[0.         0.14630894 0.         0.13770646]\n"
     ]
    }
   ],
   "source": [
    "from pyswarm import pso\n",
    "\n",
    "\n",
    "lb = [0, 0, 0, 0]\n",
    "ub = [2, 2, 2, 2]\n",
    "maxiter = 100\n",
    "\n",
    "xopt, _ = pso(f, lb, ub, maxiter=maxiter, minstep=1e-8)\n",
    "print(xopt)\n",
    "a_pso = xopt[0]\n",
    "b_pso = xopt[1]\n",
    "c_pso = xopt[2]\n",
    "d_pso = xopt[3]\n",
    "nit_pso = maxiter\n",
    "nfev_pso = maxiter"
   ]
  },
  {
   "cell_type": "markdown",
   "metadata": {},
   "source": [
    "# Results graphs"
   ]
  },
  {
   "cell_type": "code",
   "execution_count": 13,
   "metadata": {},
   "outputs": [
    {
     "name": "stderr",
     "output_type": "stream",
     "text": [
      "<ipython-input-13-b1be19880d7c>:13: MatplotlibDeprecationWarning: savefig() got unexpected keyword argument \"papertype\" which is no longer supported as of 3.3 and will become an error two minor releases later\n",
      "  plt.savefig(fname = \"D:/Магистр/Algorithms/graph_4.1.png\", dpi=300, facecolor='w', edgecolor='w',\n",
      "<ipython-input-13-b1be19880d7c>:13: MatplotlibDeprecationWarning: savefig() got unexpected keyword argument \"frameon\" which is no longer supported as of 3.3 and will become an error two minor releases later\n",
      "  plt.savefig(fname = \"D:/Магистр/Algorithms/graph_4.1.png\", dpi=300, facecolor='w', edgecolor='w',\n"
     ]
    },
    {
     "data": {
      "image/png": "[encoded data removed]",
      "text/plain": [
       "<Figure size 720x360 with 1 Axes>"
      ]
     },
     "metadata": {
      "needs_background": "light"
     },
     "output_type": "display_data"
    }
   ],
   "source": [
    "plt.figure(figsize=(10,5))\n",
    "plt.plot(x, y, 'bo', label='Generated data', markersize=1)\n",
    "plt.plot(x, func(x,a_lm,b_lm,c_lm,d_lm),'', color = 'orange', linewidth=1, label=\"Levenberg-Marquardt\")\n",
    "plt.plot(x, func(x,a_nm,b_nm,c_nm,d_nm),'', color = 'brown', linewidth=1, label=\"Nelder-Mead\")\n",
    "plt.plot(x, func(x,a_sa,b_sa,c_sa,d_sa),'', color = 'red', linewidth=1, label=\"Simulated Annealing\")\n",
    "plt.plot(x, func(x,a_de,b_de,c_de,d_de),'', color = 'black', linewidth=1, label=\"Differential Evolution\")\n",
    "plt.plot(x, func(x,a_pso,b_pso,c_pso,d_pso),'', color = 'green', linewidth=1, label=\"Particle Swarm Optimization\")\n",
    "\n",
    "plt.legend()\n",
    "plt.xlabel(\"x\")\n",
    "plt.ylabel(\"f(x)\")\n",
    "\n",
    "plt.savefig(fname = \"D:/Магистр/Algorithms/graph_4.1.png\", dpi=300, facecolor='w', edgecolor='w',\n",
    "            orientation='portrait', papertype=None, format=None, \n",
    "            transparent=False, bbox_inches=None, pad_inches=0.1,\n",
    "            frameon=None, metadata=None)"
   ]
  },
  {
   "cell_type": "code",
   "execution_count": null,
   "metadata": {},
   "outputs": [
    {
     "name": "stdout",
     "output_type": "stream",
     "text": [
      "Requirement already satisfied: prettytable in d:\\anaconda\\envs\\ml\\lib\\site-packages (2.2.1)\n",
      "Requirement already satisfied: wcwidth in d:\\anaconda\\envs\\ml\\lib\\site-packages (from prettytable) (0.2.5)\n"
     ]
    }
   ],
   "source": [
    "!pip install prettytable"
   ]
  },
  {
   "cell_type": "code",
   "execution_count": 14,
   "metadata": {},
   "outputs": [
    {
     "name": "stdout",
     "output_type": "stream",
     "text": [
      "+-----------------------------+--------+--------+--------+-------+------------+----------------------+--------------------------+\n",
      "|            Method           |   a    |   b    |   c    |   d   | minimum f  | number of iterations | number of f-calculations |\n",
      "+-----------------------------+--------+--------+--------+-------+------------+----------------------+--------------------------+\n",
      "|     Levenberg-Marquardt     | 0.000  | -0.000 | 1.000  | 1.000 | 266482.442 |          21          |            21            |\n",
      "|         Nelder-Mead         | -0.992 | 0.993  | -2.001 | 1.001 | 136018.803 |         296          |           507            |\n",
      "|     Simulated Annealing     | -0.992 | 0.993  | -2.001 | 1.001 | 136018.806 |         1000         |          22443           |\n",
      "|    Differential Evolution   | 0.026  | 0.448  | 0.549  | 0.663 | 266484.619 |          1           |           130            |\n",
      "| Particle Swarm Optimization | 0.000  | 0.146  | 0.000  | 0.138 | 266372.295 |         100          |           100            |\n",
      "+-----------------------------+--------+--------+--------+-------+------------+----------------------+--------------------------+\n"
     ]
    }
   ],
   "source": [
    "from prettytable import PrettyTable\n",
    "th = ['Method', 'a', 'b', 'c','d', 'minimum f', 'number of iterations', 'number of f-calculations' ]\n",
    "td = ['Levenberg-Marquardt', '%.3f' % a_lm, '%.3f' % b_lm, '%.3f' % c_lm, '%.3f' % d_lm,  '%.3f' % f([a_lm,b_lm,c_lm,d_lm]), nit_lm, nfev_lm,\n",
    "      'Nelder-Mead', '%.3f' % a_nm, '%.3f' % b_nm, '%.3f' % c_nm, '%.3f' % d_nm,  '%.3f' % f([a_nm,b_nm,c_nm,d_nm]), nit_nm, nfev_nm,\n",
    "      'Simulated Annealing', '%.3f' % a_sa, '%.3f' % b_sa, '%.3f' % c_sa, '%.3f' % d_sa,  '%.3f' % f([a_sa,b_sa,c_sa,d_sa]), nit_sa, nfev_sa,\n",
    "      'Differential Evolution', '%.3f' % a_de, '%.3f' % b_de, '%.3f' % c_de, '%.3f' % d_de,  '%.3f' % f([a_de,b_de,c_de,d_de]), nit_de, nfev_de,\n",
    "      'Particle Swarm Optimization', '%.3f' % a_pso, '%.3f' % b_pso, '%.3f' % c_pso, '%.3f' % d_pso,  '%.3f' % f([a_pso,b_pso,c_pso,d_pso]), nit_pso, nfev_pso]\n",
    "\n",
    "columns = len(th)\n",
    "table = PrettyTable(th)\n",
    "td_data = td[:]\n",
    "\n",
    "while td_data:\n",
    "    table.add_row(td_data[:columns])\n",
    "    td_data = td_data[columns:]\n",
    "\n",
    "print(table) "
   ]
  },
  {
   "cell_type": "markdown",
   "metadata": {},
   "source": [
    "# Implemented algorithm for сalculate the distance matrix for them and then apply the Simulated Annealing\n",
    "# method to solve the corresponding Travelling Salesman Problem\n",
    "# https://pythonmana.com/2021/05/20210504100711662r.html"
   ]
  },
  {
   "cell_type": "code",
   "execution_count": null,
   "metadata": {},
   "outputs": [],
   "source": [
    "#  Simulated annealing algorithm for traveling salesman problem\n",
    "\n",
    "import math                         \n",
    "import random                       \n",
    "import pandas as pd                 \n",
    "import numpy as np                  \n",
    "import matplotlib.pyplot as plt     \n",
    "\n",
    "np.set_printoptions(precision=4)\n",
    "pd.set_option('display.max_rows', 20)\n",
    "pd.set_option('expand_frame_repr', False)\n",
    "pd.options.display.float_format = '{:,.2f}'.format\n",
    "\n",
    "def initParameter():\n",
    "    # custom function initParameter():\n",
    "    # Initial parameter for simulated annealing algorithm\n",
    "    tInitial = 100.0                # (initial temperature)\n",
    "    tFinal  = 1                     # (stop temperature)\n",
    "    nMarkov = 1000                # Markov\n",
    "    alfa    = 0.98                 # T(k)=alfa*T(k-1)\n",
    "\n",
    "    return tInitial,tFinal,alfa,nMarkov\n",
    "\n",
    "# TSPLib\n",
    "def read_TSPLib(fileName):\n",
    "    # custom function read_TSPLib(fileName)\n",
    "    # Read datafile *.dat from TSPlib\n",
    "    # return coordinates of each city by YouCans, XUPT\n",
    "    res = []\n",
    "    with open(fileName, 'r') as fid:\n",
    "        for item in fid:\n",
    "            if len(item.strip())!=0:\n",
    "                res.append(item.split())\n",
    "\n",
    "    loadData = np.array(res).astype('int')      # i Xi Yi\n",
    "    coordinates = loadData[:,1::]\n",
    "    return coordinates\n",
    "\n",
    "# \n",
    "def getDistMat(nCities, coordinates):\n",
    "    # custom function getDistMat(nCities, coordinates):\n",
    "    # computer distance between each 2 Cities\n",
    "    distMat = np.zeros((nCities,nCities))       # \n",
    "    for i in range(nCities):\n",
    "        for j in range(i,nCities):\n",
    "            # np.linalg.norm   ij \n",
    "            distMat[i][j] = distMat[j][i] = round(np.linalg.norm(coordinates[i]-coordinates[j]))\n",
    "    return distMat                              # \n",
    "\n",
    "#  TSP \n",
    "def calTourMileage(tourGiven, nCities, distMat):\n",
    "    # custom function caltourMileage(nCities, tour, distMat):\n",
    "    # to compute mileage of the given tour\n",
    "    mileageTour = distMat[tourGiven[nCities-1], tourGiven[0]]   # dist((n-1),0)\n",
    "    for i in range(nCities-1):                                  # dist(0,1),...dist((n-2)(n-1))\n",
    "        mileageTour += distMat[tourGiven[i], tourGiven[i+1]]\n",
    "    return round(mileageTour)                     # \n",
    "\n",
    "#  TSP \n",
    "def plot_tour(tour, value, coordinates,fname):\n",
    "    # custom function plot_tour(tour, nCities, coordinates)\n",
    "    plt.figure(figsize=(10,5))\n",
    "    num = len(tour)\n",
    "    x0, y0 = coordinates[tour[num - 1]]\n",
    "    x1, y1 = coordinates[tour[0]]\n",
    "    plt.scatter(int(x0), int(y0), s=15, c='r')      #  C(n-1)\n",
    "    plt.plot([x1, x0], [y1, y0], c='b')             #  C(n-1)~C(0)\n",
    "    for i in range(num - 1):\n",
    "        x0, y0 = coordinates[tour[i]]\n",
    "        x1, y1 = coordinates[tour[i + 1]]\n",
    "        plt.scatter(int(x0), int(y0), s=15, c='r')  #  C(i)\n",
    "        plt.plot([x1, x0], [y1, y0], c='b')         #  C(i)~C(i+1)\n",
    "\n",
    "    plt.xlabel(\"Total mileage of the tour:{:.1f}\".format(value))\n",
    "    plt.title(\"Optimization tour of TSP {:d}\".format(num))  # \n",
    "    plt.savefig(fname = fname, dpi=300, facecolor='w', edgecolor='w',\n",
    "            orientation='portrait', papertype=None, format=None, \n",
    "            transparent=False, bbox_inches=None, pad_inches=0.1,\n",
    "            frameon=None, metadata=None)\n",
    "\n",
    "# \n",
    "def mutateSwap(tourGiven, nCities):\n",
    "    # custom function mutateSwap(nCities, tourNow)\n",
    "    # produce a mutation tour with 2-Swap operator\n",
    "    # swap the position of two Cities in the given tour\n",
    "\n",
    "    #  [0,n)  2 i,j\n",
    "    i = np.random.randint(nCities)          #  [0,n) \n",
    "    while True:\n",
    "        j = np.random.randint(nCities)      #  [0,n) \n",
    "        if i!=j: break                      #  i, j \n",
    "\n",
    "    tourSwap = tourGiven.copy()             #  tourSwap\n",
    "    tourSwap[i],tourSwap[j] = tourGiven[j],tourGiven[i] #   i  j \n",
    "\n",
    "    return tourSwap\n"
   ]
  },
  {
   "cell_type": "code",
   "execution_count": null,
   "metadata": {},
   "outputs": [
    {
     "name": "stderr",
     "output_type": "stream",
     "text": [
      "<ipython-input-13-4c04bc8c2f61>:85: MatplotlibDeprecationWarning: savefig() got unexpected keyword argument \"papertype\" which is no longer supported as of 3.3 and will become an error two minor releases later\n",
      "  plt.savefig(fname = fname, dpi=300, facecolor='w', edgecolor='w',\n",
      "<ipython-input-13-4c04bc8c2f61>:85: MatplotlibDeprecationWarning: savefig() got unexpected keyword argument \"frameon\" which is no longer supported as of 3.3 and will become an error two minor releases later\n",
      "  plt.savefig(fname = fname, dpi=300, facecolor='w', edgecolor='w',\n"
     ]
    },
    {
     "name": "stdout",
     "output_type": "stream",
     "text": [
      "i:0, t(i):100.00, valueNow:620.0, valueBest:620.0\n",
      "i:1, t(i):98.00, valueNow:520.0, valueBest:509.0\n",
      "i:2, t(i):96.04, valueNow:651.0, valueBest:509.0\n",
      "i:3, t(i):94.12, valueNow:622.0, valueBest:509.0\n",
      "i:4, t(i):92.24, valueNow:601.0, valueBest:509.0\n",
      "i:5, t(i):90.39, valueNow:575.0, valueBest:509.0\n",
      "i:6, t(i):88.58, valueNow:527.0, valueBest:501.0\n",
      "i:7, t(i):86.81, valueNow:646.0, valueBest:501.0\n",
      "i:8, t(i):85.08, valueNow:624.0, valueBest:501.0\n",
      "i:9, t(i):83.37, valueNow:660.0, valueBest:501.0\n",
      "i:10, t(i):81.71, valueNow:578.0, valueBest:501.0\n",
      "i:11, t(i):80.07, valueNow:515.0, valueBest:501.0\n",
      "i:12, t(i):78.47, valueNow:730.0, valueBest:494.0\n",
      "i:13, t(i):76.90, valueNow:605.0, valueBest:494.0\n",
      "i:14, t(i):75.36, valueNow:609.0, valueBest:494.0\n",
      "i:15, t(i):73.86, valueNow:589.0, valueBest:494.0\n",
      "i:16, t(i):72.38, valueNow:731.0, valueBest:494.0\n",
      "i:17, t(i):70.93, valueNow:677.0, valueBest:494.0\n",
      "i:18, t(i):69.51, valueNow:546.0, valueBest:494.0\n",
      "i:19, t(i):68.12, valueNow:678.0, valueBest:494.0\n",
      "i:20, t(i):66.76, valueNow:650.0, valueBest:494.0\n",
      "i:21, t(i):65.43, valueNow:619.0, valueBest:494.0\n",
      "i:22, t(i):64.12, valueNow:589.0, valueBest:494.0\n",
      "i:23, t(i):62.83, valueNow:650.0, valueBest:494.0\n",
      "i:24, t(i):61.58, valueNow:634.0, valueBest:450.0\n",
      "i:25, t(i):60.35, valueNow:616.0, valueBest:450.0\n",
      "i:26, t(i):59.14, valueNow:441.0, valueBest:441.0\n",
      "i:27, t(i):57.96, valueNow:618.0, valueBest:441.0\n",
      "i:28, t(i):56.80, valueNow:557.0, valueBest:441.0\n",
      "i:29, t(i):55.66, valueNow:595.0, valueBest:441.0\n",
      "i:30, t(i):54.55, valueNow:600.0, valueBest:441.0\n",
      "i:31, t(i):53.46, valueNow:678.0, valueBest:441.0\n",
      "i:32, t(i):52.39, valueNow:610.0, valueBest:441.0\n",
      "i:33, t(i):51.34, valueNow:616.0, valueBest:441.0\n",
      "i:34, t(i):50.31, valueNow:549.0, valueBest:441.0\n",
      "i:35, t(i):49.31, valueNow:528.0, valueBest:441.0\n",
      "i:36, t(i):48.32, valueNow:575.0, valueBest:441.0\n",
      "i:37, t(i):47.35, valueNow:485.0, valueBest:441.0\n",
      "i:38, t(i):46.41, valueNow:676.0, valueBest:441.0\n",
      "i:39, t(i):45.48, valueNow:560.0, valueBest:441.0\n",
      "i:40, t(i):44.57, valueNow:571.0, valueBest:441.0\n",
      "i:41, t(i):43.68, valueNow:545.0, valueBest:441.0\n",
      "i:42, t(i):42.81, valueNow:591.0, valueBest:441.0\n",
      "i:43, t(i):41.95, valueNow:509.0, valueBest:441.0\n",
      "i:44, t(i):41.11, valueNow:606.0, valueBest:441.0\n",
      "i:45, t(i):40.29, valueNow:589.0, valueBest:441.0\n",
      "i:46, t(i):39.48, valueNow:535.0, valueBest:441.0\n",
      "i:47, t(i):38.69, valueNow:609.0, valueBest:441.0\n",
      "i:48, t(i):37.92, valueNow:542.0, valueBest:441.0\n",
      "i:49, t(i):37.16, valueNow:511.0, valueBest:441.0\n",
      "i:50, t(i):36.42, valueNow:580.0, valueBest:441.0\n",
      "i:51, t(i):35.69, valueNow:556.0, valueBest:441.0\n",
      "i:52, t(i):34.97, valueNow:665.0, valueBest:441.0\n",
      "i:53, t(i):34.28, valueNow:593.0, valueBest:441.0\n",
      "i:54, t(i):33.59, valueNow:614.0, valueBest:441.0\n",
      "i:55, t(i):32.92, valueNow:619.0, valueBest:441.0\n",
      "i:56, t(i):32.26, valueNow:520.0, valueBest:441.0\n",
      "i:57, t(i):31.61, valueNow:521.0, valueBest:441.0\n",
      "i:58, t(i):30.98, valueNow:426.0, valueBest:415.0\n",
      "i:59, t(i):30.36, valueNow:582.0, valueBest:415.0\n",
      "i:60, t(i):29.76, valueNow:460.0, valueBest:415.0\n",
      "i:61, t(i):29.16, valueNow:515.0, valueBest:415.0\n",
      "i:62, t(i):28.58, valueNow:541.0, valueBest:415.0\n",
      "i:63, t(i):28.01, valueNow:455.0, valueBest:415.0\n",
      "i:64, t(i):27.45, valueNow:464.0, valueBest:415.0\n",
      "i:65, t(i):26.90, valueNow:451.0, valueBest:415.0\n",
      "i:66, t(i):26.36, valueNow:562.0, valueBest:415.0\n",
      "i:67, t(i):25.83, valueNow:690.0, valueBest:415.0\n",
      "i:68, t(i):25.31, valueNow:535.0, valueBest:415.0\n",
      "i:69, t(i):24.81, valueNow:659.0, valueBest:415.0\n",
      "i:70, t(i):24.31, valueNow:564.0, valueBest:415.0\n",
      "i:71, t(i):23.83, valueNow:478.0, valueBest:415.0\n",
      "i:72, t(i):23.35, valueNow:493.0, valueBest:415.0\n",
      "i:73, t(i):22.88, valueNow:403.0, valueBest:394.0\n",
      "i:74, t(i):22.42, valueNow:423.0, valueBest:394.0\n",
      "i:75, t(i):21.98, valueNow:449.0, valueBest:394.0\n",
      "i:76, t(i):21.54, valueNow:389.0, valueBest:389.0\n",
      "i:77, t(i):21.11, valueNow:354.0, valueBest:354.0\n",
      "i:78, t(i):20.68, valueNow:465.0, valueBest:354.0\n",
      "i:79, t(i):20.27, valueNow:459.0, valueBest:354.0\n",
      "i:80, t(i):19.86, valueNow:479.0, valueBest:354.0\n",
      "i:81, t(i):19.47, valueNow:434.0, valueBest:354.0\n",
      "i:82, t(i):19.08, valueNow:434.0, valueBest:354.0\n",
      "i:83, t(i):18.70, valueNow:507.0, valueBest:354.0\n",
      "i:84, t(i):18.32, valueNow:492.0, valueBest:354.0\n",
      "i:85, t(i):17.96, valueNow:457.0, valueBest:354.0\n",
      "i:86, t(i):17.60, valueNow:425.0, valueBest:354.0\n",
      "i:87, t(i):17.25, valueNow:455.0, valueBest:354.0\n",
      "i:88, t(i):16.90, valueNow:479.0, valueBest:354.0\n",
      "i:89, t(i):16.56, valueNow:479.0, valueBest:354.0\n",
      "i:90, t(i):16.23, valueNow:437.0, valueBest:354.0\n",
      "i:91, t(i):15.91, valueNow:454.0, valueBest:354.0\n",
      "i:92, t(i):15.59, valueNow:465.0, valueBest:354.0\n",
      "i:93, t(i):15.28, valueNow:441.0, valueBest:354.0\n",
      "i:94, t(i):14.97, valueNow:422.0, valueBest:354.0\n",
      "i:95, t(i):14.67, valueNow:438.0, valueBest:354.0\n",
      "i:96, t(i):14.38, valueNow:472.0, valueBest:354.0\n",
      "i:97, t(i):14.09, valueNow:417.0, valueBest:354.0\n",
      "i:98, t(i):13.81, valueNow:405.0, valueBest:354.0\n",
      "i:99, t(i):13.53, valueNow:405.0, valueBest:354.0\n",
      "i:100, t(i):13.26, valueNow:407.0, valueBest:354.0\n",
      "i:101, t(i):13.00, valueNow:421.0, valueBest:354.0\n",
      "i:102, t(i):12.74, valueNow:400.0, valueBest:354.0\n",
      "i:103, t(i):12.48, valueNow:357.0, valueBest:354.0\n",
      "i:104, t(i):12.23, valueNow:357.0, valueBest:354.0\n",
      "i:105, t(i):11.99, valueNow:357.0, valueBest:354.0\n",
      "i:106, t(i):11.75, valueNow:363.0, valueBest:354.0\n",
      "i:107, t(i):11.51, valueNow:363.0, valueBest:354.0\n",
      "i:108, t(i):11.28, valueNow:399.0, valueBest:354.0\n",
      "i:109, t(i):11.06, valueNow:355.0, valueBest:354.0\n",
      "i:110, t(i):10.84, valueNow:375.0, valueBest:342.0\n",
      "i:111, t(i):10.62, valueNow:374.0, valueBest:342.0\n",
      "i:112, t(i):10.41, valueNow:373.0, valueBest:342.0\n",
      "i:113, t(i):10.20, valueNow:373.0, valueBest:342.0\n",
      "i:114, t(i):9.99, valueNow:373.0, valueBest:342.0\n",
      "i:115, t(i):9.79, valueNow:373.0, valueBest:342.0\n",
      "i:116, t(i):9.60, valueNow:338.0, valueBest:328.0\n",
      "i:117, t(i):9.41, valueNow:338.0, valueBest:328.0\n",
      "i:118, t(i):9.22, valueNow:338.0, valueBest:328.0\n",
      "i:119, t(i):9.03, valueNow:297.0, valueBest:297.0\n",
      "i:120, t(i):8.85, valueNow:284.0, valueBest:284.0\n",
      "i:121, t(i):8.68, valueNow:284.0, valueBest:284.0\n",
      "i:122, t(i):8.50, valueNow:284.0, valueBest:284.0\n",
      "i:123, t(i):8.33, valueNow:310.0, valueBest:284.0\n",
      "i:124, t(i):8.17, valueNow:306.0, valueBest:284.0\n",
      "i:125, t(i):8.00, valueNow:306.0, valueBest:284.0\n",
      "i:126, t(i):7.84, valueNow:306.0, valueBest:284.0\n",
      "i:127, t(i):7.69, valueNow:308.0, valueBest:284.0\n",
      "i:128, t(i):7.53, valueNow:308.0, valueBest:284.0\n",
      "i:129, t(i):7.38, valueNow:308.0, valueBest:284.0\n",
      "i:130, t(i):7.23, valueNow:300.0, valueBest:284.0\n",
      "i:131, t(i):7.09, valueNow:300.0, valueBest:284.0\n",
      "i:132, t(i):6.95, valueNow:284.0, valueBest:284.0\n",
      "i:133, t(i):6.81, valueNow:312.0, valueBest:284.0\n",
      "i:134, t(i):6.67, valueNow:290.0, valueBest:284.0\n",
      "i:135, t(i):6.54, valueNow:290.0, valueBest:284.0\n",
      "i:136, t(i):6.41, valueNow:290.0, valueBest:284.0\n",
      "i:137, t(i):6.28, valueNow:290.0, valueBest:284.0\n",
      "i:138, t(i):6.15, valueNow:290.0, valueBest:284.0\n",
      "i:139, t(i):6.03, valueNow:290.0, valueBest:284.0\n",
      "i:140, t(i):5.91, valueNow:290.0, valueBest:284.0\n",
      "i:141, t(i):5.79, valueNow:290.0, valueBest:284.0\n",
      "i:142, t(i):5.68, valueNow:290.0, valueBest:284.0\n",
      "i:143, t(i):5.56, valueNow:290.0, valueBest:284.0\n",
      "i:144, t(i):5.45, valueNow:290.0, valueBest:284.0\n",
      "i:145, t(i):5.34, valueNow:284.0, valueBest:284.0\n",
      "i:146, t(i):5.24, valueNow:284.0, valueBest:284.0\n",
      "i:147, t(i):5.13, valueNow:284.0, valueBest:284.0\n",
      "i:148, t(i):5.03, valueNow:284.0, valueBest:284.0\n",
      "i:149, t(i):4.93, valueNow:284.0, valueBest:284.0\n",
      "i:150, t(i):4.83, valueNow:284.0, valueBest:284.0\n",
      "i:151, t(i):4.73, valueNow:290.0, valueBest:284.0\n",
      "i:152, t(i):4.64, valueNow:317.0, valueBest:284.0\n",
      "i:153, t(i):4.55, valueNow:290.0, valueBest:284.0\n",
      "i:154, t(i):4.45, valueNow:293.0, valueBest:284.0\n",
      "i:155, t(i):4.37, valueNow:284.0, valueBest:284.0\n",
      "i:156, t(i):4.28, valueNow:284.0, valueBest:284.0\n",
      "i:157, t(i):4.19, valueNow:284.0, valueBest:284.0\n",
      "i:158, t(i):4.11, valueNow:284.0, valueBest:284.0\n",
      "i:159, t(i):4.03, valueNow:284.0, valueBest:284.0\n",
      "i:160, t(i):3.95, valueNow:284.0, valueBest:284.0\n",
      "i:161, t(i):3.87, valueNow:300.0, valueBest:284.0\n",
      "i:162, t(i):3.79, valueNow:300.0, valueBest:284.0\n",
      "i:163, t(i):3.71, valueNow:300.0, valueBest:284.0\n",
      "i:164, t(i):3.64, valueNow:300.0, valueBest:284.0\n",
      "i:165, t(i):3.57, valueNow:300.0, valueBest:284.0\n",
      "i:166, t(i):3.50, valueNow:306.0, valueBest:284.0\n",
      "i:167, t(i):3.43, valueNow:300.0, valueBest:284.0\n",
      "i:168, t(i):3.36, valueNow:300.0, valueBest:284.0\n",
      "i:169, t(i):3.29, valueNow:300.0, valueBest:284.0\n",
      "i:170, t(i):3.22, valueNow:300.0, valueBest:284.0\n",
      "i:171, t(i):3.16, valueNow:300.0, valueBest:284.0\n",
      "i:172, t(i):3.10, valueNow:300.0, valueBest:284.0\n",
      "i:173, t(i):3.03, valueNow:300.0, valueBest:284.0\n",
      "i:174, t(i):2.97, valueNow:300.0, valueBest:284.0\n",
      "i:175, t(i):2.91, valueNow:300.0, valueBest:284.0\n",
      "i:176, t(i):2.86, valueNow:300.0, valueBest:284.0\n",
      "i:177, t(i):2.80, valueNow:284.0, valueBest:284.0\n",
      "i:178, t(i):2.74, valueNow:284.0, valueBest:284.0\n",
      "i:179, t(i):2.69, valueNow:284.0, valueBest:284.0\n",
      "i:180, t(i):2.63, valueNow:284.0, valueBest:284.0\n",
      "i:181, t(i):2.58, valueNow:284.0, valueBest:284.0\n",
      "i:182, t(i):2.53, valueNow:284.0, valueBest:284.0\n",
      "i:183, t(i):2.48, valueNow:284.0, valueBest:284.0\n",
      "i:184, t(i):2.43, valueNow:284.0, valueBest:284.0\n",
      "i:185, t(i):2.38, valueNow:284.0, valueBest:284.0\n",
      "i:186, t(i):2.33, valueNow:284.0, valueBest:284.0\n",
      "i:187, t(i):2.29, valueNow:284.0, valueBest:284.0\n",
      "i:188, t(i):2.24, valueNow:284.0, valueBest:284.0\n",
      "i:189, t(i):2.20, valueNow:284.0, valueBest:284.0\n",
      "i:190, t(i):2.15, valueNow:284.0, valueBest:284.0\n",
      "i:191, t(i):2.11, valueNow:284.0, valueBest:284.0\n",
      "i:192, t(i):2.07, valueNow:284.0, valueBest:284.0\n",
      "i:193, t(i):2.03, valueNow:284.0, valueBest:284.0\n",
      "i:194, t(i):1.99, valueNow:284.0, valueBest:284.0\n",
      "i:195, t(i):1.95, valueNow:284.0, valueBest:284.0\n",
      "i:196, t(i):1.91, valueNow:284.0, valueBest:284.0\n",
      "i:197, t(i):1.87, valueNow:284.0, valueBest:284.0\n",
      "i:198, t(i):1.83, valueNow:284.0, valueBest:284.0\n",
      "i:199, t(i):1.79, valueNow:284.0, valueBest:284.0\n",
      "i:200, t(i):1.76, valueNow:284.0, valueBest:284.0\n",
      "i:201, t(i):1.72, valueNow:284.0, valueBest:284.0\n",
      "i:202, t(i):1.69, valueNow:284.0, valueBest:284.0\n",
      "i:203, t(i):1.66, valueNow:284.0, valueBest:284.0\n",
      "i:204, t(i):1.62, valueNow:284.0, valueBest:284.0\n",
      "i:205, t(i):1.59, valueNow:284.0, valueBest:284.0\n",
      "i:206, t(i):1.56, valueNow:284.0, valueBest:284.0\n",
      "i:207, t(i):1.53, valueNow:284.0, valueBest:284.0\n",
      "i:208, t(i):1.50, valueNow:284.0, valueBest:284.0\n",
      "i:209, t(i):1.47, valueNow:284.0, valueBest:284.0\n",
      "i:210, t(i):1.44, valueNow:284.0, valueBest:284.0\n",
      "i:211, t(i):1.41, valueNow:284.0, valueBest:284.0\n",
      "i:212, t(i):1.38, valueNow:284.0, valueBest:284.0\n",
      "i:213, t(i):1.35, valueNow:284.0, valueBest:284.0\n",
      "i:214, t(i):1.33, valueNow:284.0, valueBest:284.0\n",
      "i:215, t(i):1.30, valueNow:284.0, valueBest:284.0\n",
      "i:216, t(i):1.27, valueNow:284.0, valueBest:284.0\n",
      "i:217, t(i):1.25, valueNow:284.0, valueBest:284.0\n",
      "i:218, t(i):1.22, valueNow:284.0, valueBest:284.0\n",
      "i:219, t(i):1.20, valueNow:284.0, valueBest:284.0\n",
      "i:220, t(i):1.17, valueNow:284.0, valueBest:284.0\n",
      "i:221, t(i):1.15, valueNow:284.0, valueBest:284.0\n",
      "i:222, t(i):1.13, valueNow:284.0, valueBest:284.0\n",
      "i:223, t(i):1.11, valueNow:284.0, valueBest:284.0\n",
      "i:224, t(i):1.08, valueNow:284.0, valueBest:284.0\n",
      "i:225, t(i):1.06, valueNow:284.0, valueBest:284.0\n",
      "i:226, t(i):1.04, valueNow:284.0, valueBest:284.0\n",
      "i:227, t(i):1.02, valueNow:284.0, valueBest:284.0\n"
     ]
    },
    {
     "data": {
      "image/png": "[encoded data removed]",
      "text/plain": [
       "<Figure size 720x360 with 1 Axes>"
      ]
     },
     "metadata": {
      "needs_background": "light"
     },
     "output_type": "display_data"
    },
    {
     "data": {
      "text/plain": [
       "<Figure size 432x288 with 0 Axes>"
      ]
     },
     "metadata": {},
     "output_type": "display_data"
    },
    {
     "data": {
      "image/png": "[encoded data removed]",
      "text/plain": [
       "<Figure size 720x360 with 1 Axes>"
      ]
     },
     "metadata": {
      "needs_background": "light"
     },
     "output_type": "display_data"
    },
    {
     "data": {
      "image/png": "[encoded data removed]",
      "text/plain": [
       "<Figure size 432x288 with 1 Axes>"
      ]
     },
     "metadata": {
      "needs_background": "light"
     },
     "output_type": "display_data"
    },
    {
     "name": "stdout",
     "output_type": "stream",
     "text": [
      "Tour verification successful!\n",
      "Best tour: \n",
      " [ 8  4  6  2 11 13  9  7  5  3 10  0 12  1 14]\n",
      "Best value: 284.0\n"
     ]
    }
   ],
   "source": [
    "coordinates = np.array([[0.549963E-07, 0.985808E-08], [-28.8733, -0.797739E-07], [-79.2916, -21.4033], [-14.6577, -43.3896], [-64.7473, 21.8982],\n",
    "                        [-29.0585, -43.2167], [-72.0785, 0.181581], [-36.0366, -21.6135], [-50.4808, 7.37447], [-50.5859, -21.5882],\n",
    "                        [-0.135819, -28.7293], [-65.0866, -36.0625], [-21.4983, 7.31942], [-57.5687, -43.2506], [-43.0700, 14.5548]])\n",
    "# fileName = \"../data/eil76.dat\"                      # \n",
    "# coordinates = read_TSPLib(fileName)                 # \n",
    "\n",
    "# \n",
    "tInitial,tFinal,alfa,nMarkov = initParameter()      # \n",
    "\n",
    "nCities = coordinates.shape[0]              #   nCities\n",
    "distMat = getDistMat(nCities, coordinates)  # \n",
    "nMarkov = nCities                           # Markov \n",
    "tNow    = tInitial                          #  (current temperature)\n",
    "\n",
    "# \n",
    "tourNow   = np.arange(nCities)   # 01n \n",
    "valueNow  = calTourMileage(tourNow,nCities,distMat) #  valueNow\n",
    "tourBest  = tourNow.copy()                          #  tourNow\n",
    "valueBest = valueNow                                #  valueNow\n",
    "recordBest = []                                     #  \n",
    "recordNow  = []                                     #  \n",
    "\n",
    "\n",
    "plot_tour(tourBest, valueBest, coordinates, \"D:/Магистр/Algorithms/graph_4.2.png\")\n",
    "\n",
    "\n",
    "# \n",
    "iter = 0                        # \n",
    "while tNow >= tFinal:           # \n",
    "    # (nMarkov)\n",
    "\n",
    "    for k in range(nMarkov):    # Markov\n",
    "        # \n",
    "        tourNew = mutateSwap(tourNow, nCities)      #   \n",
    "        # tourNew,deltaE = mutateSwapE(tourNow,nCities,distMat)   #    deltaE\n",
    "        valueNew = calTourMileage(tourNew,nCities,distMat) # \n",
    "        deltaE = valueNew - valueNow\n",
    "\n",
    "        #  Metropolis \n",
    "        if deltaE < 0:                          # \n",
    "            accept = True\n",
    "            if valueNew < valueBest:            # \n",
    "                tourBest[:] = tourNew[:]\n",
    "                valueBest = valueNew\n",
    "        else:                                   # \n",
    "            pAccept = math.exp(-deltaE/tNow)    # \n",
    "            if pAccept > random.random():\n",
    "                accept = True\n",
    "            else:\n",
    "                accept = False\n",
    "\n",
    "        # \n",
    "        if accept == True:                      # \n",
    "            tourNow[:] = tourNew[:]\n",
    "            valueNow = valueNew\n",
    "\n",
    "    #  0,n-1\n",
    "    tourNow = np.roll(tourNow,2)                # \n",
    "\n",
    "    # \n",
    "    recordBest.append(valueBest)                #  \n",
    "    recordNow.append(valueNow)                  #  \n",
    "    print('i:{}, t(i):{:.2f}, valueNow:{:.1f}, valueBest:{:.1f}'.format(iter,tNow,valueNow,valueBest))\n",
    "\n",
    "    # \n",
    "    iter = iter + 1\n",
    "    tNow = tNow * alfa                              # T(k)=alfa*T(k-1)\n",
    "\n",
    "# \n",
    "\n",
    "# \n",
    "figure1 = plt.figure()     #  1\n",
    "plot_tour(tourBest, valueBest, coordinates, \"D:/Магистр/Algorithms/graph_4.3.png\")\n",
    "figure2 = plt.figure()     #  2\n",
    "plt.title(\"Optimization result of TSP{:d}\".format(nCities)) # \n",
    "plt.plot(np.array(recordBest),'b-', label='Best')           #  recordBest\n",
    "plt.plot(np.array(recordNow),'g-', label='Now')             #  recordNow\n",
    "plt.xlabel(\"iter\")                                          #  x\n",
    "plt.ylabel(\"mileage of tour\")                               #  y\n",
    "plt.legend()                                                # \n",
    "plt.show()\n",
    "\n",
    "print(\"Tour verification successful!\")\n",
    "print(\"Best tour: \\n\", tourBest)\n",
    "print(\"Best value: {:.1f}\".format(valueBest))"
   ]
  }
 ],
 "metadata": {
  "interpreter": {
   "hash": "7fd27acf9a94a5a6fa3c4459901576d754097efd5b0d4e01531075eeaad970fb"
  },
  "kernelspec": {
   "display_name": "Python 3.8.8 64-bit ('ml': conda)",
   "name": "python3"
  },
  "language_info": {
   "codemirror_mode": {
    "name": "ipython",
    "version": 3
   },
   "file_extension": ".py",
   "mimetype": "text/x-python",
   "name": "python",
   "nbconvert_exporter": "python",
   "pygments_lexer": "ipython3",
   "version": "3.8.8"
  },
  "orig_nbformat": 4
 },
 "nbformat": 4,
 "nbformat_minor": 2
}
